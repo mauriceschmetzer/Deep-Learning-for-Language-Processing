{
  "cells": [
    {
      "cell_type": "markdown",
      "metadata": {
        "id": "J7tbAcFShtCi"
      },
      "source": [
        "## **Importing Packages**"
      ]
    },
    {
      "cell_type": "code",
      "execution_count": null,
      "metadata": {
        "colab": {
          "base_uri": "https://localhost:8080/"
        },
        "id": "sEXOeJD4q4AV",
        "outputId": "39c555ef-7df7-4da3-8150-f2fa035eda3f"
      },
      "outputs": [
        {
          "name": "stdout",
          "output_type": "stream",
          "text": [
            "\u001b[?25l   \u001b[90m━━━━━━━━━━━━━━━━━━━━━━━━━━━━━━━━━━━━━━━━\u001b[0m \u001b[32m0.0/289.9 kB\u001b[0m \u001b[31m?\u001b[0m eta \u001b[36m-:--:--\u001b[0m\r",
            "\u001b[2K   \u001b[91m━━━━━━━━━━━━━━━━━━━\u001b[0m\u001b[91m╸\u001b[0m\u001b[90m━━━━━━━━━━━━━━━━━━━━\u001b[0m \u001b[32m143.4/289.9 kB\u001b[0m \u001b[31m4.1 MB/s\u001b[0m eta \u001b[36m0:00:01\u001b[0m\r",
            "\u001b[2K   \u001b[90m━━━━━━━━━━━━━━━━━━━━━━━━━━━━━━━━━━━━━━━━\u001b[0m \u001b[32m289.9/289.9 kB\u001b[0m \u001b[31m4.8 MB/s\u001b[0m eta \u001b[36m0:00:00\u001b[0m\n",
            "\u001b[?25h\u001b[?25l   \u001b[90m━━━━━━━━━━━━━━━━━━━━━━━━━━━━━━━━━━━━━━━━\u001b[0m \u001b[32m0.0/110.7 kB\u001b[0m \u001b[31m?\u001b[0m eta \u001b[36m-:--:--\u001b[0m\r",
            "\u001b[2K   \u001b[90m━━━━━━━━━━━━━━━━━━━━━━━━━━━━━━━━━━━━━━━━\u001b[0m \u001b[32m110.7/110.7 kB\u001b[0m \u001b[31m8.5 MB/s\u001b[0m eta \u001b[36m0:00:00\u001b[0m\n",
            "\u001b[?25h"
          ]
        }
      ],
      "source": [
        "pip install contractions -q"
      ]
    },
    {
      "cell_type": "code",
      "execution_count": null,
      "metadata": {
        "id": "4xLzY3POdGSL"
      },
      "outputs": [],
      "source": [
        "#To Load Data in Colab\n",
        "from google.colab import drive # Used to access Google Drive to import data\n",
        "import shutil # Used to copy data from Google Drive\n",
        "\n",
        "# General Packages\n",
        "import pandas as pd\n",
        "import numpy as np\n",
        "import time\n",
        "\n",
        "#Loading & Splitting Data\n",
        "import gzip\n",
        "import random\n",
        "import json\n",
        "\n",
        "from sklearn.model_selection import train_test_split\n",
        "\n",
        "#Working with Text\n",
        "import re\n",
        "import contractions\n",
        "from collections import Counter #To count words\n",
        "\n",
        "import nltk #Tokenizing words\n",
        "from nltk.tokenize import word_tokenize #Tokenizing words\n",
        "from nltk.corpus import stopwords\n",
        "\n",
        "#Plots\n",
        "import matplotlib.pyplot as plt\n",
        "import seaborn as sns\n",
        "import matplotlib.ticker as ticker #Eliminates scientific notation\n",
        "\n",
        "#Training\n",
        "import torch\n",
        "from torch.utils.data import Dataset, DataLoader, TensorDataset\n",
        "import torch.nn.functional as F\n",
        "\n",
        "#Evaluation\n",
        "from sklearn.metrics import classification_report\n",
        "from sklearn.metrics import confusion_matrix"
      ]
    },
    {
      "cell_type": "markdown",
      "metadata": {
        "id": "Ol2n0NR88wPz"
      },
      "source": [
        "## **Checking GPU**"
      ]
    },
    {
      "cell_type": "code",
      "execution_count": null,
      "metadata": {
        "colab": {
          "base_uri": "https://localhost:8080/",
          "height": 35
        },
        "id": "z8HbBiHu8weR",
        "outputId": "7f219c88-7049-45ee-e30f-0c1d97b8e64a"
      },
      "outputs": [
        {
          "data": {
            "application/vnd.google.colaboratory.intrinsic+json": {
              "type": "string"
            },
            "text/plain": [
              "'2.5.1+cu121'"
            ]
          },
          "execution_count": 3,
          "metadata": {},
          "output_type": "execute_result"
        }
      ],
      "source": [
        "torch.__version__"
      ]
    },
    {
      "cell_type": "code",
      "execution_count": null,
      "metadata": {
        "colab": {
          "base_uri": "https://localhost:8080/"
        },
        "id": "fRYUoaXo8zCJ",
        "outputId": "bf02fe4e-86f6-463b-fe7d-ccf130eb4bd9"
      },
      "outputs": [
        {
          "data": {
            "text/plain": [
              "True"
            ]
          },
          "execution_count": 4,
          "metadata": {},
          "output_type": "execute_result"
        }
      ],
      "source": [
        "torch.cuda.is_available()"
      ]
    },
    {
      "cell_type": "code",
      "execution_count": null,
      "metadata": {
        "colab": {
          "base_uri": "https://localhost:8080/"
        },
        "id": "5Wm6YeG_80fV",
        "outputId": "ce9b29e6-b065-4751-f139-50239ae3682f"
      },
      "outputs": [
        {
          "name": "stdout",
          "output_type": "stream",
          "text": [
            "cuda\n"
          ]
        }
      ],
      "source": [
        "device = torch.device(\"cuda\" if torch.cuda.is_available() else \"cpu\")\n",
        "\n",
        "print(device)"
      ]
    },
    {
      "cell_type": "markdown",
      "metadata": {
        "id": "06gbFsMrhzAM"
      },
      "source": [
        "# **<u>Part 1: Simplified Word2Vec Training</u>**\n",
        "\n"
      ]
    },
    {
      "cell_type": "markdown",
      "metadata": {
        "id": "82bAOxTQh3Wi"
      },
      "source": [
        "## **Step 1: Data Importationn & Preparation**"
      ]
    },
    {
      "cell_type": "markdown",
      "metadata": {
        "id": "nifLrwLL_EOk"
      },
      "source": [
        "### **1.1 Import Data**"
      ]
    },
    {
      "cell_type": "code",
      "execution_count": null,
      "metadata": {
        "colab": {
          "base_uri": "https://localhost:8080/"
        },
        "id": "bkFBB0DEh4ha",
        "outputId": "45bc5411-584f-4ac8-9fed-c7fbdee14c8c"
      },
      "outputs": [
        {
          "name": "stdout",
          "output_type": "stream",
          "text": [
            "Mounted at /content/drive\n"
          ]
        }
      ],
      "source": [
        "#Mount to Google Drive to be able to access data (images & labels)\n",
        "drive.mount('/content/drive')"
      ]
    },
    {
      "cell_type": "code",
      "execution_count": null,
      "metadata": {
        "id": "QhoKYnYBiHXr"
      },
      "outputs": [],
      "source": [
        "#Define general path\n",
        "path_dir = \"/content/drive/My Drive/2) College & Other Education/1) College/1) Master of Science Data Science in Business & Economics/3. Semester/DS405B_Practical_Deep_Learning_for_Language_Processing/Assignments/Assignment 2\""
      ]
    },
    {
      "cell_type": "code",
      "execution_count": null,
      "metadata": {
        "colab": {
          "base_uri": "https://localhost:8080/",
          "height": 35
        },
        "collapsed": true,
        "id": "GV2R3jGKiIK9",
        "outputId": "28e5bc87-8f52-41f3-d2c9-f86fab41929b"
      },
      "outputs": [
        {
          "data": {
            "application/vnd.google.colaboratory.intrinsic+json": {
              "type": "string"
            },
            "text/plain": [
              "'Electronics_5.json.gz'"
            ]
          },
          "execution_count": 8,
          "metadata": {},
          "output_type": "execute_result"
        }
      ],
      "source": [
        "#Copy image data to local machine to allow for faster estimation.\n",
        "shutil.copy(f\"{path_dir}/Data/Electronics_5.json.gz\", \"Electronics_5.json.gz\")"
      ]
    },
    {
      "cell_type": "code",
      "execution_count": null,
      "metadata": {
        "id": "o3C2AiJNiTIz"
      },
      "outputs": [],
      "source": [
        "#Source: https://cseweb.ucsd.edu/~jmcauley/datasets/amazon_v2/\n",
        "def parse(path):\n",
        "  g = gzip.open(path, \"rb\")\n",
        "  for l in g:\n",
        "    yield json.loads(l)\n",
        "\n",
        "def getDF(path, data_sample_size, seed):\n",
        "\n",
        "  #Set seed to replicate sample\n",
        "  random.seed(seed)\n",
        "\n",
        "  i = 0\n",
        "  df = {}\n",
        "\n",
        "  for d in parse(path):\n",
        "\n",
        "    #Only data_sample_size% of the data is loaded\n",
        "    if random.random() <= data_sample_size:\n",
        "      df[i] = d\n",
        "      i += 1\n",
        "\n",
        "  #Return Dataframe\n",
        "  return pd.DataFrame.from_dict(df, orient=\"index\")\n",
        "\n",
        "#Select subset of N% reviews for faster training.\n",
        "data_sample_size = 0.01\n",
        "seed = 603\n",
        "\n",
        "amazon_reviews = getDF(\"Electronics_5.json.gz\", data_sample_size, seed)"
      ]
    },
    {
      "cell_type": "code",
      "execution_count": null,
      "metadata": {
        "colab": {
          "base_uri": "https://localhost:8080/"
        },
        "id": "BP6uaIf1oXBB",
        "outputId": "73eca6a6-d5bf-40cf-e654-4cbff9677468"
      },
      "outputs": [
        {
          "name": "stdout",
          "output_type": "stream",
          "text": [
            "Number of Reviews: 68003\n"
          ]
        }
      ],
      "source": [
        "print(f\"Number of Reviews: {len(amazon_reviews)}\")"
      ]
    },
    {
      "cell_type": "code",
      "execution_count": null,
      "metadata": {
        "colab": {
          "base_uri": "https://localhost:8080/",
          "height": 276
        },
        "id": "JJKTn2kTkyyh",
        "outputId": "059b69fe-dd3b-4eaf-c38e-6a28a2fa8173"
      },
      "outputs": [
        {
          "data": {
            "application/vnd.google.colaboratory.intrinsic+json": {
              "summary": "{\n  \"name\": \"amazon_reviews\",\n  \"rows\": 68003,\n  \"fields\": [\n    {\n      \"column\": \"overall\",\n      \"properties\": {\n        \"dtype\": \"number\",\n        \"std\": 1.2020934109669377,\n        \"min\": 1.0,\n        \"max\": 5.0,\n        \"num_unique_values\": 5,\n        \"samples\": [\n          4.0,\n          2.0,\n          1.0\n        ],\n        \"semantic_type\": \"\",\n        \"description\": \"\"\n      }\n    },\n    {\n      \"column\": \"verified\",\n      \"properties\": {\n        \"dtype\": \"boolean\",\n        \"num_unique_values\": 2,\n        \"samples\": [\n          false,\n          true\n        ],\n        \"semantic_type\": \"\",\n        \"description\": \"\"\n      }\n    },\n    {\n      \"column\": \"reviewTime\",\n      \"properties\": {\n        \"dtype\": \"object\",\n        \"num_unique_values\": 4510,\n        \"samples\": [\n          \"02 9, 2016\",\n          \"12 23, 2010\"\n        ],\n        \"semantic_type\": \"\",\n        \"description\": \"\"\n      }\n    },\n    {\n      \"column\": \"reviewerID\",\n      \"properties\": {\n        \"dtype\": \"string\",\n        \"num_unique_values\": 63387,\n        \"samples\": [\n          \"A3BF3JJFVI66ML\",\n          \"A2OU2SSA1275PS\"\n        ],\n        \"semantic_type\": \"\",\n        \"description\": \"\"\n      }\n    },\n    {\n      \"column\": \"asin\",\n      \"properties\": {\n        \"dtype\": \"string\",\n        \"num_unique_values\": 34657,\n        \"samples\": [\n          \"B0046K6WXO\",\n          \"B0015IR45A\"\n        ],\n        \"semantic_type\": \"\",\n        \"description\": \"\"\n      }\n    },\n    {\n      \"column\": \"reviewerName\",\n      \"properties\": {\n        \"dtype\": \"string\",\n        \"num_unique_values\": 51682,\n        \"samples\": [\n          \"WJ\",\n          \"Ron Price\"\n        ],\n        \"semantic_type\": \"\",\n        \"description\": \"\"\n      }\n    },\n    {\n      \"column\": \"reviewText\",\n      \"properties\": {\n        \"dtype\": \"string\",\n        \"num_unique_values\": 63579,\n        \"samples\": [\n          \"Great amp for a budget setup!\",\n          \"I'm use it now to hold my iPad and it is the best Tripod I have ever owned. I am retired now, but use to be a Professional Photographer.\"\n        ],\n        \"semantic_type\": \"\",\n        \"description\": \"\"\n      }\n    },\n    {\n      \"column\": \"summary\",\n      \"properties\": {\n        \"dtype\": \"string\",\n        \"num_unique_values\": 44469,\n        \"samples\": [\n          \"Great little keyboard!\",\n          \"This is a great solution to hiding cables\"\n        ],\n        \"semantic_type\": \"\",\n        \"description\": \"\"\n      }\n    },\n    {\n      \"column\": \"unixReviewTime\",\n      \"properties\": {\n        \"dtype\": \"number\",\n        \"std\": 73059526,\n        \"min\": 960249600,\n        \"max\": 1538006400,\n        \"num_unique_values\": 4510,\n        \"samples\": [\n          1454976000,\n          1293062400\n        ],\n        \"semantic_type\": \"\",\n        \"description\": \"\"\n      }\n    },\n    {\n      \"column\": \"style\",\n      \"properties\": {\n        \"dtype\": \"object\",\n        \"semantic_type\": \"\",\n        \"description\": \"\"\n      }\n    },\n    {\n      \"column\": \"vote\",\n      \"properties\": {\n        \"dtype\": \"category\",\n        \"num_unique_values\": 197,\n        \"samples\": [\n          \"111\",\n          \"293\"\n        ],\n        \"semantic_type\": \"\",\n        \"description\": \"\"\n      }\n    },\n    {\n      \"column\": \"image\",\n      \"properties\": {\n        \"dtype\": \"object\",\n        \"semantic_type\": \"\",\n        \"description\": \"\"\n      }\n    }\n  ]\n}",
              "type": "dataframe",
              "variable_name": "amazon_reviews"
            },
            "text/html": [
              "\n",
              "  <div id=\"df-3b00b56f-8cbb-4bfa-9dd4-916225973eac\" class=\"colab-df-container\">\n",
              "    <div>\n",
              "<style scoped>\n",
              "    .dataframe tbody tr th:only-of-type {\n",
              "        vertical-align: middle;\n",
              "    }\n",
              "\n",
              "    .dataframe tbody tr th {\n",
              "        vertical-align: top;\n",
              "    }\n",
              "\n",
              "    .dataframe thead th {\n",
              "        text-align: right;\n",
              "    }\n",
              "</style>\n",
              "<table border=\"1\" class=\"dataframe\">\n",
              "  <thead>\n",
              "    <tr style=\"text-align: right;\">\n",
              "      <th></th>\n",
              "      <th>overall</th>\n",
              "      <th>verified</th>\n",
              "      <th>reviewTime</th>\n",
              "      <th>reviewerID</th>\n",
              "      <th>asin</th>\n",
              "      <th>reviewerName</th>\n",
              "      <th>reviewText</th>\n",
              "      <th>summary</th>\n",
              "      <th>unixReviewTime</th>\n",
              "      <th>style</th>\n",
              "      <th>vote</th>\n",
              "      <th>image</th>\n",
              "    </tr>\n",
              "  </thead>\n",
              "  <tbody>\n",
              "    <tr>\n",
              "      <th>0</th>\n",
              "      <td>5.0</td>\n",
              "      <td>True</td>\n",
              "      <td>01 14, 2016</td>\n",
              "      <td>A1KV65E2TMMG6F</td>\n",
              "      <td>0511189877</td>\n",
              "      <td>Dane Williams</td>\n",
              "      <td>I got tired of the remote being on the wrong s...</td>\n",
              "      <td>Same as TWC remote</td>\n",
              "      <td>1452729600</td>\n",
              "      <td>NaN</td>\n",
              "      <td>NaN</td>\n",
              "      <td>NaN</td>\n",
              "    </tr>\n",
              "    <tr>\n",
              "      <th>1</th>\n",
              "      <td>4.0</td>\n",
              "      <td>True</td>\n",
              "      <td>07 11, 2014</td>\n",
              "      <td>AEZ3CR6BKIROJ</td>\n",
              "      <td>0594451647</td>\n",
              "      <td>Mark D.</td>\n",
              "      <td>This adapter easily connects my Nook HD 7\" to ...</td>\n",
              "      <td>A nice easy to use accessory.</td>\n",
              "      <td>1405036800</td>\n",
              "      <td>NaN</td>\n",
              "      <td>NaN</td>\n",
              "      <td>NaN</td>\n",
              "    </tr>\n",
              "    <tr>\n",
              "      <th>2</th>\n",
              "      <td>4.0</td>\n",
              "      <td>False</td>\n",
              "      <td>06 12, 2010</td>\n",
              "      <td>AHFGCH8LANEZK</td>\n",
              "      <td>0789743035</td>\n",
              "      <td>Dana G.</td>\n",
              "      <td>If you are new to the Mac operating system or ...</td>\n",
              "      <td>Friendly and easy to follow</td>\n",
              "      <td>1276300800</td>\n",
              "      <td>{'Format:': ' Paperback'}</td>\n",
              "      <td>NaN</td>\n",
              "      <td>NaN</td>\n",
              "    </tr>\n",
              "    <tr>\n",
              "      <th>3</th>\n",
              "      <td>1.0</td>\n",
              "      <td>True</td>\n",
              "      <td>06 15, 2017</td>\n",
              "      <td>A3K90YOHQJL8U7</td>\n",
              "      <td>0972683275</td>\n",
              "      <td>Mori M.</td>\n",
              "      <td>DID NOT fit as described  to accommodate the T...</td>\n",
              "      <td>DID NOT fit as described to accommodate the TV...</td>\n",
              "      <td>1497484800</td>\n",
              "      <td>NaN</td>\n",
              "      <td>NaN</td>\n",
              "      <td>NaN</td>\n",
              "    </tr>\n",
              "    <tr>\n",
              "      <th>4</th>\n",
              "      <td>5.0</td>\n",
              "      <td>True</td>\n",
              "      <td>07 29, 2014</td>\n",
              "      <td>ABWQ1SYDHUPPU</td>\n",
              "      <td>0972683275</td>\n",
              "      <td>me2colion</td>\n",
              "      <td>Super easy super strong!</td>\n",
              "      <td>Five Stars</td>\n",
              "      <td>1406592000</td>\n",
              "      <td>NaN</td>\n",
              "      <td>NaN</td>\n",
              "      <td>NaN</td>\n",
              "    </tr>\n",
              "  </tbody>\n",
              "</table>\n",
              "</div>\n",
              "    <div class=\"colab-df-buttons\">\n",
              "\n",
              "  <div class=\"colab-df-container\">\n",
              "    <button class=\"colab-df-convert\" onclick=\"convertToInteractive('df-3b00b56f-8cbb-4bfa-9dd4-916225973eac')\"\n",
              "            title=\"Convert this dataframe to an interactive table.\"\n",
              "            style=\"display:none;\">\n",
              "\n",
              "  <svg xmlns=\"http://www.w3.org/2000/svg\" height=\"24px\" viewBox=\"0 -960 960 960\">\n",
              "    <path d=\"M120-120v-720h720v720H120Zm60-500h600v-160H180v160Zm220 220h160v-160H400v160Zm0 220h160v-160H400v160ZM180-400h160v-160H180v160Zm440 0h160v-160H620v160ZM180-180h160v-160H180v160Zm440 0h160v-160H620v160Z\"/>\n",
              "  </svg>\n",
              "    </button>\n",
              "\n",
              "  <style>\n",
              "    .colab-df-container {\n",
              "      display:flex;\n",
              "      gap: 12px;\n",
              "    }\n",
              "\n",
              "    .colab-df-convert {\n",
              "      background-color: #E8F0FE;\n",
              "      border: none;\n",
              "      border-radius: 50%;\n",
              "      cursor: pointer;\n",
              "      display: none;\n",
              "      fill: #1967D2;\n",
              "      height: 32px;\n",
              "      padding: 0 0 0 0;\n",
              "      width: 32px;\n",
              "    }\n",
              "\n",
              "    .colab-df-convert:hover {\n",
              "      background-color: #E2EBFA;\n",
              "      box-shadow: 0px 1px 2px rgba(60, 64, 67, 0.3), 0px 1px 3px 1px rgba(60, 64, 67, 0.15);\n",
              "      fill: #174EA6;\n",
              "    }\n",
              "\n",
              "    .colab-df-buttons div {\n",
              "      margin-bottom: 4px;\n",
              "    }\n",
              "\n",
              "    [theme=dark] .colab-df-convert {\n",
              "      background-color: #3B4455;\n",
              "      fill: #D2E3FC;\n",
              "    }\n",
              "\n",
              "    [theme=dark] .colab-df-convert:hover {\n",
              "      background-color: #434B5C;\n",
              "      box-shadow: 0px 1px 3px 1px rgba(0, 0, 0, 0.15);\n",
              "      filter: drop-shadow(0px 1px 2px rgba(0, 0, 0, 0.3));\n",
              "      fill: #FFFFFF;\n",
              "    }\n",
              "  </style>\n",
              "\n",
              "    <script>\n",
              "      const buttonEl =\n",
              "        document.querySelector('#df-3b00b56f-8cbb-4bfa-9dd4-916225973eac button.colab-df-convert');\n",
              "      buttonEl.style.display =\n",
              "        google.colab.kernel.accessAllowed ? 'block' : 'none';\n",
              "\n",
              "      async function convertToInteractive(key) {\n",
              "        const element = document.querySelector('#df-3b00b56f-8cbb-4bfa-9dd4-916225973eac');\n",
              "        const dataTable =\n",
              "          await google.colab.kernel.invokeFunction('convertToInteractive',\n",
              "                                                    [key], {});\n",
              "        if (!dataTable) return;\n",
              "\n",
              "        const docLinkHtml = 'Like what you see? Visit the ' +\n",
              "          '<a target=\"_blank\" href=https://colab.research.google.com/notebooks/data_table.ipynb>data table notebook</a>'\n",
              "          + ' to learn more about interactive tables.';\n",
              "        element.innerHTML = '';\n",
              "        dataTable['output_type'] = 'display_data';\n",
              "        await google.colab.output.renderOutput(dataTable, element);\n",
              "        const docLink = document.createElement('div');\n",
              "        docLink.innerHTML = docLinkHtml;\n",
              "        element.appendChild(docLink);\n",
              "      }\n",
              "    </script>\n",
              "  </div>\n",
              "\n",
              "\n",
              "<div id=\"df-4828c706-8cb8-4c87-8546-ab4b71e2327a\">\n",
              "  <button class=\"colab-df-quickchart\" onclick=\"quickchart('df-4828c706-8cb8-4c87-8546-ab4b71e2327a')\"\n",
              "            title=\"Suggest charts\"\n",
              "            style=\"display:none;\">\n",
              "\n",
              "<svg xmlns=\"http://www.w3.org/2000/svg\" height=\"24px\"viewBox=\"0 0 24 24\"\n",
              "     width=\"24px\">\n",
              "    <g>\n",
              "        <path d=\"M19 3H5c-1.1 0-2 .9-2 2v14c0 1.1.9 2 2 2h14c1.1 0 2-.9 2-2V5c0-1.1-.9-2-2-2zM9 17H7v-7h2v7zm4 0h-2V7h2v10zm4 0h-2v-4h2v4z\"/>\n",
              "    </g>\n",
              "</svg>\n",
              "  </button>\n",
              "\n",
              "<style>\n",
              "  .colab-df-quickchart {\n",
              "      --bg-color: #E8F0FE;\n",
              "      --fill-color: #1967D2;\n",
              "      --hover-bg-color: #E2EBFA;\n",
              "      --hover-fill-color: #174EA6;\n",
              "      --disabled-fill-color: #AAA;\n",
              "      --disabled-bg-color: #DDD;\n",
              "  }\n",
              "\n",
              "  [theme=dark] .colab-df-quickchart {\n",
              "      --bg-color: #3B4455;\n",
              "      --fill-color: #D2E3FC;\n",
              "      --hover-bg-color: #434B5C;\n",
              "      --hover-fill-color: #FFFFFF;\n",
              "      --disabled-bg-color: #3B4455;\n",
              "      --disabled-fill-color: #666;\n",
              "  }\n",
              "\n",
              "  .colab-df-quickchart {\n",
              "    background-color: var(--bg-color);\n",
              "    border: none;\n",
              "    border-radius: 50%;\n",
              "    cursor: pointer;\n",
              "    display: none;\n",
              "    fill: var(--fill-color);\n",
              "    height: 32px;\n",
              "    padding: 0;\n",
              "    width: 32px;\n",
              "  }\n",
              "\n",
              "  .colab-df-quickchart:hover {\n",
              "    background-color: var(--hover-bg-color);\n",
              "    box-shadow: 0 1px 2px rgba(60, 64, 67, 0.3), 0 1px 3px 1px rgba(60, 64, 67, 0.15);\n",
              "    fill: var(--button-hover-fill-color);\n",
              "  }\n",
              "\n",
              "  .colab-df-quickchart-complete:disabled,\n",
              "  .colab-df-quickchart-complete:disabled:hover {\n",
              "    background-color: var(--disabled-bg-color);\n",
              "    fill: var(--disabled-fill-color);\n",
              "    box-shadow: none;\n",
              "  }\n",
              "\n",
              "  .colab-df-spinner {\n",
              "    border: 2px solid var(--fill-color);\n",
              "    border-color: transparent;\n",
              "    border-bottom-color: var(--fill-color);\n",
              "    animation:\n",
              "      spin 1s steps(1) infinite;\n",
              "  }\n",
              "\n",
              "  @keyframes spin {\n",
              "    0% {\n",
              "      border-color: transparent;\n",
              "      border-bottom-color: var(--fill-color);\n",
              "      border-left-color: var(--fill-color);\n",
              "    }\n",
              "    20% {\n",
              "      border-color: transparent;\n",
              "      border-left-color: var(--fill-color);\n",
              "      border-top-color: var(--fill-color);\n",
              "    }\n",
              "    30% {\n",
              "      border-color: transparent;\n",
              "      border-left-color: var(--fill-color);\n",
              "      border-top-color: var(--fill-color);\n",
              "      border-right-color: var(--fill-color);\n",
              "    }\n",
              "    40% {\n",
              "      border-color: transparent;\n",
              "      border-right-color: var(--fill-color);\n",
              "      border-top-color: var(--fill-color);\n",
              "    }\n",
              "    60% {\n",
              "      border-color: transparent;\n",
              "      border-right-color: var(--fill-color);\n",
              "    }\n",
              "    80% {\n",
              "      border-color: transparent;\n",
              "      border-right-color: var(--fill-color);\n",
              "      border-bottom-color: var(--fill-color);\n",
              "    }\n",
              "    90% {\n",
              "      border-color: transparent;\n",
              "      border-bottom-color: var(--fill-color);\n",
              "    }\n",
              "  }\n",
              "</style>\n",
              "\n",
              "  <script>\n",
              "    async function quickchart(key) {\n",
              "      const quickchartButtonEl =\n",
              "        document.querySelector('#' + key + ' button');\n",
              "      quickchartButtonEl.disabled = true;  // To prevent multiple clicks.\n",
              "      quickchartButtonEl.classList.add('colab-df-spinner');\n",
              "      try {\n",
              "        const charts = await google.colab.kernel.invokeFunction(\n",
              "            'suggestCharts', [key], {});\n",
              "      } catch (error) {\n",
              "        console.error('Error during call to suggestCharts:', error);\n",
              "      }\n",
              "      quickchartButtonEl.classList.remove('colab-df-spinner');\n",
              "      quickchartButtonEl.classList.add('colab-df-quickchart-complete');\n",
              "    }\n",
              "    (() => {\n",
              "      let quickchartButtonEl =\n",
              "        document.querySelector('#df-4828c706-8cb8-4c87-8546-ab4b71e2327a button');\n",
              "      quickchartButtonEl.style.display =\n",
              "        google.colab.kernel.accessAllowed ? 'block' : 'none';\n",
              "    })();\n",
              "  </script>\n",
              "</div>\n",
              "\n",
              "    </div>\n",
              "  </div>\n"
            ],
            "text/plain": [
              "   overall  verified   reviewTime      reviewerID        asin   reviewerName  \\\n",
              "0      5.0      True  01 14, 2016  A1KV65E2TMMG6F  0511189877  Dane Williams   \n",
              "1      4.0      True  07 11, 2014   AEZ3CR6BKIROJ  0594451647        Mark D.   \n",
              "2      4.0     False  06 12, 2010   AHFGCH8LANEZK  0789743035        Dana G.   \n",
              "3      1.0      True  06 15, 2017  A3K90YOHQJL8U7  0972683275        Mori M.   \n",
              "4      5.0      True  07 29, 2014   ABWQ1SYDHUPPU  0972683275      me2colion   \n",
              "\n",
              "                                          reviewText  \\\n",
              "0  I got tired of the remote being on the wrong s...   \n",
              "1  This adapter easily connects my Nook HD 7\" to ...   \n",
              "2  If you are new to the Mac operating system or ...   \n",
              "3  DID NOT fit as described  to accommodate the T...   \n",
              "4                           Super easy super strong!   \n",
              "\n",
              "                                             summary  unixReviewTime  \\\n",
              "0                                 Same as TWC remote      1452729600   \n",
              "1                      A nice easy to use accessory.      1405036800   \n",
              "2                        Friendly and easy to follow      1276300800   \n",
              "3  DID NOT fit as described to accommodate the TV...      1497484800   \n",
              "4                                         Five Stars      1406592000   \n",
              "\n",
              "                       style vote image  \n",
              "0                        NaN  NaN   NaN  \n",
              "1                        NaN  NaN   NaN  \n",
              "2  {'Format:': ' Paperback'}  NaN   NaN  \n",
              "3                        NaN  NaN   NaN  \n",
              "4                        NaN  NaN   NaN  "
            ]
          },
          "execution_count": 11,
          "metadata": {},
          "output_type": "execute_result"
        }
      ],
      "source": [
        "amazon_reviews.head()"
      ]
    },
    {
      "cell_type": "markdown",
      "metadata": {
        "id": "4tIxQxl4rx_c"
      },
      "source": [
        "### **1.2 Cleanup and Preprocess text**"
      ]
    },
    {
      "cell_type": "code",
      "execution_count": null,
      "metadata": {
        "colab": {
          "base_uri": "https://localhost:8080/"
        },
        "id": "zqLbY36stdPf",
        "outputId": "b1624819-ee43-46a7-e80d-2c3ba2027510"
      },
      "outputs": [
        {
          "name": "stderr",
          "output_type": "stream",
          "text": [
            "[nltk_data] Downloading package punkt_tab to /root/nltk_data...\n",
            "[nltk_data]   Unzipping tokenizers/punkt_tab.zip.\n",
            "[nltk_data] Downloading package stopwords to /root/nltk_data...\n",
            "[nltk_data]   Unzipping corpora/stopwords.zip.\n"
          ]
        },
        {
          "data": {
            "text/plain": [
              "True"
            ]
          },
          "execution_count": 12,
          "metadata": {},
          "output_type": "execute_result"
        }
      ],
      "source": [
        "nltk.download(\"punkt_tab\")\n",
        "nltk.download('stopwords') #I remove stop words from this analysis."
      ]
    },
    {
      "cell_type": "code",
      "execution_count": null,
      "metadata": {
        "id": "pz_0sSRuII5w"
      },
      "outputs": [],
      "source": [
        "def symbolsToWords(word):\n",
        "  num_dict = {\n",
        "        \"0\": \"zero\", \"1\": \"one\", \"2\": \"two\", \"3\": \"three\", \"4\": \"four\", \"5\": \"five\",\n",
        "        \"6\": \"six\", \"7\": \"seven\", \"8\": \"eight\", \"9\": \"nine\", \"&\" : \" and \", \"@\" : \" at \", \"$\": \" dollar \"\n",
        "  }\n",
        "\n",
        "  return num_dict.get(word, word)"
      ]
    },
    {
      "cell_type": "code",
      "execution_count": null,
      "metadata": {
        "id": "BQ0ogCFHp4Nf"
      },
      "outputs": [],
      "source": [
        "special_characters = [\n",
        "    \"[\", \"!\", \"\\\\\", \"$\", \"%\", \"&\", \"\\\"\", \"(\", \")\", \"*\", \"+\", \",\", \"-\", \".\", \"/\",\n",
        "    \":\", \";\", \"<\", \"=\", \">\", \"?\", \"@\", \"]\", \"^\", \"_\", \"`\", \"{\", \"|\", \"}\", \"~\",\n",
        "    \".\", \";\", \"•\", \"«\", \"#\", \"'\"\n",
        "]\n",
        "\n",
        "stop_words = set(stopwords.words(\"english\"))\n",
        "additional_stop_words = [\"aa\", \"aaa\", \"aaaa\", \"aaaaa\", \"aaaaaa\", \"aaaaaaa\"]\n",
        "stop_words.update(additional_stop_words)\n",
        "\n",
        "special_characters_pattern = f\"[{re.escape(''.join(special_characters))}]\"\n",
        "\n",
        "#Source: Assignment 1\n",
        "def cleanupText(s):\n",
        "    \"\"\"\n",
        "    Given a text, cleans. Feel free to add your own stuff.\n",
        "    \"\"\"\n",
        "\n",
        "    #If a value is not a string, it is converted to string\n",
        "    if not isinstance(s, str):  # Check if the input is not a string\n",
        "        s = f\"{s}\" #Converts non string values to strings\n",
        "\n",
        "    #Sets every value to lower-case\n",
        "    s = s.lower()\n",
        "\n",
        "    # Replace IPs & URLs\n",
        "    s = re.sub(r'\\d{1,3}\\.\\d{1,3}\\.\\d{1,3}\\.\\d{1,3}', ' _ip_ ', s)\n",
        "    s = re.sub(r'http\\S+|www\\S+', ' _url_ ', s)\n",
        "\n",
        "    # Removes punctuation and special characters as they appear very often in text and don't add any meaningful information.\n",
        "    s = re.sub(special_characters_pattern, \" \", s)\n",
        "\n",
        "    # Remove extra space left after punctuation removel\n",
        "    s = re.sub(r'\\s+', \" \", s)\n",
        "\n",
        "    # Remove HTML tags\n",
        "    s = re.sub(r'<.*?>', \" \", s)\n",
        "\n",
        "    #Replaces don't, can't, etc. with do not, cannot, etc.\n",
        "    s = contractions.fix(s)\n",
        "\n",
        "    # Replace numbers and symbols with language\n",
        "    s = re.sub(r'\\d', lambda x: symbolsToWords(x.group(0)), s)\n",
        "\n",
        "    # Remove stop words\n",
        "    s = \" \".join([word for word in s.split() if word not in stop_words])\n",
        "\n",
        "    return s"
      ]
    },
    {
      "cell_type": "code",
      "execution_count": null,
      "metadata": {
        "id": "zymSaH7tp_m_"
      },
      "outputs": [],
      "source": [
        "#Applying Functions to reviews\n",
        "amazon_reviews[\"cleaned_reviewText\"] = amazon_reviews[\"reviewText\"].apply(cleanupText)\n",
        "amazon_reviews[\"tokenized_reviewText\"] = amazon_reviews[\"cleaned_reviewText\"].apply(word_tokenize)"
      ]
    },
    {
      "cell_type": "code",
      "execution_count": null,
      "metadata": {
        "colab": {
          "base_uri": "https://localhost:8080/",
          "height": 206
        },
        "id": "tWISU1Upu_5r",
        "outputId": "3bcfba36-78c5-44a4-9a35-8e2097dd43df"
      },
      "outputs": [
        {
          "data": {
            "application/vnd.google.colaboratory.intrinsic+json": {
              "summary": "{\n  \"name\": \"amazon_reviews[[\\\"reviewText\\\", \\\"cleaned_reviewText\\\", \\\"tokenized_reviewText\\\"]]\",\n  \"rows\": 5,\n  \"fields\": [\n    {\n      \"column\": \"reviewText\",\n      \"properties\": {\n        \"dtype\": \"string\",\n        \"num_unique_values\": 5,\n        \"samples\": [\n          \"This adapter easily connects my Nook HD 7\\\" to my HDTV through the HDMI cable.  This is good for traveling because it makes any hotel TV a potential smart TV so long as there is an accessible HDMI port.  It is also good for sharing photos from FB on a bigger screen. A bit pricey, but a good accessory to have.  Be sure to note that this is ONLY for the Nook HD and HD+ series.  It will not work with a standard Nook.\",\n          \"Super easy super strong!\",\n          \"If you are new to the Mac operating system or just not as familiar with it as you would like, this book is worth checking out.  The format of this book is non-threatening and friendly; if you can call a book that, in the way that it is not a big, boring book of foreign data.  The pages are designed with lots of color to keep your eyes interested.  So if you or someone you care about needs to unlock the power of the Macbook, the information is in here.\\n\\nThere are color screen shots of everything described in the book.  Sometimes when learning about the terminology, you will finally know what the initials stand for, like PPOE (Point-to-Point Protocol over Ethernet).  But it will not always set it up in a definition-like format, so you might have to pay close attention.  But that is probably just an exception.  There is no glossary of terminology, but there is a detailed index which should work the same for you.\\n\\nAdditionally, you will be able to learn a lot about your Macbook if you can get to the Apple Store and take one of their free intro to Mac classes offered at all stores.  I have taken it, and learned lots!\"\n        ],\n        \"semantic_type\": \"\",\n        \"description\": \"\"\n      }\n    },\n    {\n      \"column\": \"cleaned_reviewText\",\n      \"properties\": {\n        \"dtype\": \"string\",\n        \"num_unique_values\": 5,\n        \"samples\": [\n          \"adapter easily connects nook hd seven hdtv hdmi cable good traveling makes hotel tv potential smart tv long accessible hdmi port also good sharing photos fb bigger screen bit pricey good accessory sure note nook hd hd series work standard nook\",\n          \"super easy super strong\",\n          \"new mac operating system familiar would like book worth checking format book non threatening friendly call book way big boring book foreign data pages designed lots color keep eyes interested someone care needs unlock power macbook information color screen shots everything described book sometimes learning terminology finally know initials stand like ppoe point point protocol ethernet always set definition like format might pay close attention probably exception glossary terminology detailed index work additionally able learn lot macbook get apple store take one free intro mac classes offered stores taken learned lots\"\n        ],\n        \"semantic_type\": \"\",\n        \"description\": \"\"\n      }\n    },\n    {\n      \"column\": \"tokenized_reviewText\",\n      \"properties\": {\n        \"dtype\": \"object\",\n        \"semantic_type\": \"\",\n        \"description\": \"\"\n      }\n    }\n  ]\n}",
              "type": "dataframe"
            },
            "text/html": [
              "\n",
              "  <div id=\"df-69441e23-9427-4549-bbb9-1434f6386934\" class=\"colab-df-container\">\n",
              "    <div>\n",
              "<style scoped>\n",
              "    .dataframe tbody tr th:only-of-type {\n",
              "        vertical-align: middle;\n",
              "    }\n",
              "\n",
              "    .dataframe tbody tr th {\n",
              "        vertical-align: top;\n",
              "    }\n",
              "\n",
              "    .dataframe thead th {\n",
              "        text-align: right;\n",
              "    }\n",
              "</style>\n",
              "<table border=\"1\" class=\"dataframe\">\n",
              "  <thead>\n",
              "    <tr style=\"text-align: right;\">\n",
              "      <th></th>\n",
              "      <th>reviewText</th>\n",
              "      <th>cleaned_reviewText</th>\n",
              "      <th>tokenized_reviewText</th>\n",
              "    </tr>\n",
              "  </thead>\n",
              "  <tbody>\n",
              "    <tr>\n",
              "      <th>0</th>\n",
              "      <td>I got tired of the remote being on the wrong s...</td>\n",
              "      <td>got tired remote wrong side bed going buy gene...</td>\n",
              "      <td>[got, tired, remote, wrong, side, bed, going, ...</td>\n",
              "    </tr>\n",
              "    <tr>\n",
              "      <th>1</th>\n",
              "      <td>This adapter easily connects my Nook HD 7\" to ...</td>\n",
              "      <td>adapter easily connects nook hd seven hdtv hdm...</td>\n",
              "      <td>[adapter, easily, connects, nook, hd, seven, h...</td>\n",
              "    </tr>\n",
              "    <tr>\n",
              "      <th>2</th>\n",
              "      <td>If you are new to the Mac operating system or ...</td>\n",
              "      <td>new mac operating system familiar would like b...</td>\n",
              "      <td>[new, mac, operating, system, familiar, would,...</td>\n",
              "    </tr>\n",
              "    <tr>\n",
              "      <th>3</th>\n",
              "      <td>DID NOT fit as described  to accommodate the T...</td>\n",
              "      <td>fit described accommodate tv size</td>\n",
              "      <td>[fit, described, accommodate, tv, size]</td>\n",
              "    </tr>\n",
              "    <tr>\n",
              "      <th>4</th>\n",
              "      <td>Super easy super strong!</td>\n",
              "      <td>super easy super strong</td>\n",
              "      <td>[super, easy, super, strong]</td>\n",
              "    </tr>\n",
              "  </tbody>\n",
              "</table>\n",
              "</div>\n",
              "    <div class=\"colab-df-buttons\">\n",
              "\n",
              "  <div class=\"colab-df-container\">\n",
              "    <button class=\"colab-df-convert\" onclick=\"convertToInteractive('df-69441e23-9427-4549-bbb9-1434f6386934')\"\n",
              "            title=\"Convert this dataframe to an interactive table.\"\n",
              "            style=\"display:none;\">\n",
              "\n",
              "  <svg xmlns=\"http://www.w3.org/2000/svg\" height=\"24px\" viewBox=\"0 -960 960 960\">\n",
              "    <path d=\"M120-120v-720h720v720H120Zm60-500h600v-160H180v160Zm220 220h160v-160H400v160Zm0 220h160v-160H400v160ZM180-400h160v-160H180v160Zm440 0h160v-160H620v160ZM180-180h160v-160H180v160Zm440 0h160v-160H620v160Z\"/>\n",
              "  </svg>\n",
              "    </button>\n",
              "\n",
              "  <style>\n",
              "    .colab-df-container {\n",
              "      display:flex;\n",
              "      gap: 12px;\n",
              "    }\n",
              "\n",
              "    .colab-df-convert {\n",
              "      background-color: #E8F0FE;\n",
              "      border: none;\n",
              "      border-radius: 50%;\n",
              "      cursor: pointer;\n",
              "      display: none;\n",
              "      fill: #1967D2;\n",
              "      height: 32px;\n",
              "      padding: 0 0 0 0;\n",
              "      width: 32px;\n",
              "    }\n",
              "\n",
              "    .colab-df-convert:hover {\n",
              "      background-color: #E2EBFA;\n",
              "      box-shadow: 0px 1px 2px rgba(60, 64, 67, 0.3), 0px 1px 3px 1px rgba(60, 64, 67, 0.15);\n",
              "      fill: #174EA6;\n",
              "    }\n",
              "\n",
              "    .colab-df-buttons div {\n",
              "      margin-bottom: 4px;\n",
              "    }\n",
              "\n",
              "    [theme=dark] .colab-df-convert {\n",
              "      background-color: #3B4455;\n",
              "      fill: #D2E3FC;\n",
              "    }\n",
              "\n",
              "    [theme=dark] .colab-df-convert:hover {\n",
              "      background-color: #434B5C;\n",
              "      box-shadow: 0px 1px 3px 1px rgba(0, 0, 0, 0.15);\n",
              "      filter: drop-shadow(0px 1px 2px rgba(0, 0, 0, 0.3));\n",
              "      fill: #FFFFFF;\n",
              "    }\n",
              "  </style>\n",
              "\n",
              "    <script>\n",
              "      const buttonEl =\n",
              "        document.querySelector('#df-69441e23-9427-4549-bbb9-1434f6386934 button.colab-df-convert');\n",
              "      buttonEl.style.display =\n",
              "        google.colab.kernel.accessAllowed ? 'block' : 'none';\n",
              "\n",
              "      async function convertToInteractive(key) {\n",
              "        const element = document.querySelector('#df-69441e23-9427-4549-bbb9-1434f6386934');\n",
              "        const dataTable =\n",
              "          await google.colab.kernel.invokeFunction('convertToInteractive',\n",
              "                                                    [key], {});\n",
              "        if (!dataTable) return;\n",
              "\n",
              "        const docLinkHtml = 'Like what you see? Visit the ' +\n",
              "          '<a target=\"_blank\" href=https://colab.research.google.com/notebooks/data_table.ipynb>data table notebook</a>'\n",
              "          + ' to learn more about interactive tables.';\n",
              "        element.innerHTML = '';\n",
              "        dataTable['output_type'] = 'display_data';\n",
              "        await google.colab.output.renderOutput(dataTable, element);\n",
              "        const docLink = document.createElement('div');\n",
              "        docLink.innerHTML = docLinkHtml;\n",
              "        element.appendChild(docLink);\n",
              "      }\n",
              "    </script>\n",
              "  </div>\n",
              "\n",
              "\n",
              "<div id=\"df-e399c2d0-1e9d-4276-8a90-ae5ec5ca8d85\">\n",
              "  <button class=\"colab-df-quickchart\" onclick=\"quickchart('df-e399c2d0-1e9d-4276-8a90-ae5ec5ca8d85')\"\n",
              "            title=\"Suggest charts\"\n",
              "            style=\"display:none;\">\n",
              "\n",
              "<svg xmlns=\"http://www.w3.org/2000/svg\" height=\"24px\"viewBox=\"0 0 24 24\"\n",
              "     width=\"24px\">\n",
              "    <g>\n",
              "        <path d=\"M19 3H5c-1.1 0-2 .9-2 2v14c0 1.1.9 2 2 2h14c1.1 0 2-.9 2-2V5c0-1.1-.9-2-2-2zM9 17H7v-7h2v7zm4 0h-2V7h2v10zm4 0h-2v-4h2v4z\"/>\n",
              "    </g>\n",
              "</svg>\n",
              "  </button>\n",
              "\n",
              "<style>\n",
              "  .colab-df-quickchart {\n",
              "      --bg-color: #E8F0FE;\n",
              "      --fill-color: #1967D2;\n",
              "      --hover-bg-color: #E2EBFA;\n",
              "      --hover-fill-color: #174EA6;\n",
              "      --disabled-fill-color: #AAA;\n",
              "      --disabled-bg-color: #DDD;\n",
              "  }\n",
              "\n",
              "  [theme=dark] .colab-df-quickchart {\n",
              "      --bg-color: #3B4455;\n",
              "      --fill-color: #D2E3FC;\n",
              "      --hover-bg-color: #434B5C;\n",
              "      --hover-fill-color: #FFFFFF;\n",
              "      --disabled-bg-color: #3B4455;\n",
              "      --disabled-fill-color: #666;\n",
              "  }\n",
              "\n",
              "  .colab-df-quickchart {\n",
              "    background-color: var(--bg-color);\n",
              "    border: none;\n",
              "    border-radius: 50%;\n",
              "    cursor: pointer;\n",
              "    display: none;\n",
              "    fill: var(--fill-color);\n",
              "    height: 32px;\n",
              "    padding: 0;\n",
              "    width: 32px;\n",
              "  }\n",
              "\n",
              "  .colab-df-quickchart:hover {\n",
              "    background-color: var(--hover-bg-color);\n",
              "    box-shadow: 0 1px 2px rgba(60, 64, 67, 0.3), 0 1px 3px 1px rgba(60, 64, 67, 0.15);\n",
              "    fill: var(--button-hover-fill-color);\n",
              "  }\n",
              "\n",
              "  .colab-df-quickchart-complete:disabled,\n",
              "  .colab-df-quickchart-complete:disabled:hover {\n",
              "    background-color: var(--disabled-bg-color);\n",
              "    fill: var(--disabled-fill-color);\n",
              "    box-shadow: none;\n",
              "  }\n",
              "\n",
              "  .colab-df-spinner {\n",
              "    border: 2px solid var(--fill-color);\n",
              "    border-color: transparent;\n",
              "    border-bottom-color: var(--fill-color);\n",
              "    animation:\n",
              "      spin 1s steps(1) infinite;\n",
              "  }\n",
              "\n",
              "  @keyframes spin {\n",
              "    0% {\n",
              "      border-color: transparent;\n",
              "      border-bottom-color: var(--fill-color);\n",
              "      border-left-color: var(--fill-color);\n",
              "    }\n",
              "    20% {\n",
              "      border-color: transparent;\n",
              "      border-left-color: var(--fill-color);\n",
              "      border-top-color: var(--fill-color);\n",
              "    }\n",
              "    30% {\n",
              "      border-color: transparent;\n",
              "      border-left-color: var(--fill-color);\n",
              "      border-top-color: var(--fill-color);\n",
              "      border-right-color: var(--fill-color);\n",
              "    }\n",
              "    40% {\n",
              "      border-color: transparent;\n",
              "      border-right-color: var(--fill-color);\n",
              "      border-top-color: var(--fill-color);\n",
              "    }\n",
              "    60% {\n",
              "      border-color: transparent;\n",
              "      border-right-color: var(--fill-color);\n",
              "    }\n",
              "    80% {\n",
              "      border-color: transparent;\n",
              "      border-right-color: var(--fill-color);\n",
              "      border-bottom-color: var(--fill-color);\n",
              "    }\n",
              "    90% {\n",
              "      border-color: transparent;\n",
              "      border-bottom-color: var(--fill-color);\n",
              "    }\n",
              "  }\n",
              "</style>\n",
              "\n",
              "  <script>\n",
              "    async function quickchart(key) {\n",
              "      const quickchartButtonEl =\n",
              "        document.querySelector('#' + key + ' button');\n",
              "      quickchartButtonEl.disabled = true;  // To prevent multiple clicks.\n",
              "      quickchartButtonEl.classList.add('colab-df-spinner');\n",
              "      try {\n",
              "        const charts = await google.colab.kernel.invokeFunction(\n",
              "            'suggestCharts', [key], {});\n",
              "      } catch (error) {\n",
              "        console.error('Error during call to suggestCharts:', error);\n",
              "      }\n",
              "      quickchartButtonEl.classList.remove('colab-df-spinner');\n",
              "      quickchartButtonEl.classList.add('colab-df-quickchart-complete');\n",
              "    }\n",
              "    (() => {\n",
              "      let quickchartButtonEl =\n",
              "        document.querySelector('#df-e399c2d0-1e9d-4276-8a90-ae5ec5ca8d85 button');\n",
              "      quickchartButtonEl.style.display =\n",
              "        google.colab.kernel.accessAllowed ? 'block' : 'none';\n",
              "    })();\n",
              "  </script>\n",
              "</div>\n",
              "\n",
              "    </div>\n",
              "  </div>\n"
            ],
            "text/plain": [
              "                                          reviewText  \\\n",
              "0  I got tired of the remote being on the wrong s...   \n",
              "1  This adapter easily connects my Nook HD 7\" to ...   \n",
              "2  If you are new to the Mac operating system or ...   \n",
              "3  DID NOT fit as described  to accommodate the T...   \n",
              "4                           Super easy super strong!   \n",
              "\n",
              "                                  cleaned_reviewText  \\\n",
              "0  got tired remote wrong side bed going buy gene...   \n",
              "1  adapter easily connects nook hd seven hdtv hdm...   \n",
              "2  new mac operating system familiar would like b...   \n",
              "3                  fit described accommodate tv size   \n",
              "4                            super easy super strong   \n",
              "\n",
              "                                tokenized_reviewText  \n",
              "0  [got, tired, remote, wrong, side, bed, going, ...  \n",
              "1  [adapter, easily, connects, nook, hd, seven, h...  \n",
              "2  [new, mac, operating, system, familiar, would,...  \n",
              "3            [fit, described, accommodate, tv, size]  \n",
              "4                       [super, easy, super, strong]  "
            ]
          },
          "execution_count": 16,
          "metadata": {},
          "output_type": "execute_result"
        }
      ],
      "source": [
        "amazon_reviews[[\"reviewText\", \"cleaned_reviewText\", \"tokenized_reviewText\"]].head()"
      ]
    },
    {
      "cell_type": "markdown",
      "metadata": {
        "id": "3d0KeEwAsCyR"
      },
      "source": [
        "## **Step 2: Vocabulary Creation**"
      ]
    },
    {
      "cell_type": "markdown",
      "metadata": {
        "id": "pWjWu0cTsajE"
      },
      "source": [
        "### **2.1 Functions**"
      ]
    },
    {
      "cell_type": "code",
      "execution_count": null,
      "metadata": {
        "id": "bef9FwKTzUYA"
      },
      "outputs": [],
      "source": [
        "#Returns Percentage of Words Below Threshold (PWBT\n",
        "def getPWBT(word_frequencies, x):\n",
        "  #Total amount of words\n",
        "  total_words = len(word_frequencies)\n",
        "\n",
        "  #Amount of words below x count\n",
        "  below_x = sum(1 for word, count in word_frequencies.items() if count < x)\n",
        "\n",
        "  #Percentage\n",
        "  percentage = round((below_x / total_words) * 100, 2)\n",
        "\n",
        "  return percentage"
      ]
    },
    {
      "cell_type": "code",
      "execution_count": null,
      "metadata": {
        "id": "G3Bjk-YdyNfR"
      },
      "outputs": [],
      "source": [
        "def getWordFrequencies(words, min_count = 5):\n",
        "\n",
        "  #Returns word frequencies\n",
        "  word_frequencies = Counter(words)\n",
        "\n",
        "  #Returns only those words for which the threshold is met\n",
        "  word_frequencies = {word: count for word, count in word_frequencies.items() if count >= min_count}\n",
        "\n",
        "  #Returns final dictionary\n",
        "  return word_frequencies"
      ]
    },
    {
      "cell_type": "code",
      "execution_count": null,
      "metadata": {
        "id": "E983ccxD01E5"
      },
      "outputs": [],
      "source": [
        "def createVocabulary(word_frequencies, threshold):\n",
        "\n",
        "  #Only select those words that have a count above the threshold\n",
        "  filtered_words = [(word, count) for word, count in word_frequencies.items() if count >= threshold]\n",
        "  filtered_words = sorted(set(filtered_words)) #Sort Data\n",
        "\n",
        "  #Get these words without the frequencies\n",
        "  selected_words = [word for word, count in filtered_words]\n",
        "  selected_words.extend([\"<|end_of_review|>\"]) #Adds token for end of review\n",
        "  selected_words.extend([\"<|unk|>\"]) #Adds unknown token\n",
        "\n",
        "  #Assigns Index to each word (Source: Lecture Notes)\n",
        "  vocab = {token:integer for integer, token in enumerate(selected_words)}\n",
        "\n",
        "  return vocab"
      ]
    },
    {
      "cell_type": "code",
      "execution_count": null,
      "metadata": {
        "id": "8FHuaOP9zNsL"
      },
      "outputs": [],
      "source": [
        "def plotBoxPlotOfWordFrequencies(word_frequencies):\n",
        "\n",
        "  word_counts = list(word_frequencies.values())\n",
        "\n",
        "  plt.figure(figsize=(10, 6))\n",
        "\n",
        "  sns.boxplot(x=word_counts, color = \".8\", linecolor = \"#137\", linewidth = 0.75)\n",
        "\n",
        "  # Set labels and title\n",
        "  plt.title(\"Word Count Boxplot\")\n",
        "  plt.xlabel(\"Word Count (Number of Occurrences)\")\n",
        "\n",
        "  #Since there are outliers with very large values, I use log-scale to make the plot more readable\n",
        "  plt.xscale(\"log\")\n",
        "\n",
        "  # Removes scientific notation\n",
        "  plt.gca().xaxis.set_major_formatter(ticker.FuncFormatter(lambda x, _: f'{int(x):,}'))\n",
        "\n",
        "  # Show the plot\n",
        "  plt.show()"
      ]
    },
    {
      "cell_type": "markdown",
      "metadata": {
        "id": "hHVm_f0t_zvb"
      },
      "source": [
        "### **2.2 Apply Functions & Create Vocabulary**"
      ]
    },
    {
      "cell_type": "code",
      "execution_count": null,
      "metadata": {
        "id": "uaejIV-ysuUo"
      },
      "outputs": [],
      "source": [
        "#I add all words from every review to a single list\n",
        "all_words = []\n",
        "\n",
        "for review_tokens in amazon_reviews[\"tokenized_reviewText\"]:\n",
        "  all_words.extend(review_tokens)"
      ]
    },
    {
      "cell_type": "markdown",
      "metadata": {
        "id": "xt766eSj5oMg"
      },
      "source": [
        "#### **2.21 Find good Minimum Count Threshold**"
      ]
    },
    {
      "cell_type": "code",
      "execution_count": null,
      "metadata": {
        "colab": {
          "base_uri": "https://localhost:8080/",
          "height": 564
        },
        "id": "o8kodseGxbap",
        "outputId": "5a5b75be-4037-4105-dd26-27173531e043"
      },
      "outputs": [
        {
          "data": {
            "image/png": "[encoded data removed]",
            "text/plain": [
              "<Figure size 1000x600 with 1 Axes>"
            ]
          },
          "metadata": {},
          "output_type": "display_data"
        }
      ],
      "source": [
        "#Get the word frequencies for every word\n",
        "word_frequencies = getWordFrequencies(all_words, 1)\n",
        "\n",
        "plotBoxPlotOfWordFrequencies(word_frequencies)"
      ]
    },
    {
      "cell_type": "code",
      "execution_count": null,
      "metadata": {
        "colab": {
          "base_uri": "https://localhost:8080/"
        },
        "id": "JN-iRl__RtJb",
        "outputId": "fbfba11b-64c4-4cba-cbe7-dae4b79c0680"
      },
      "outputs": [
        {
          "name": "stdout",
          "output_type": "stream",
          "text": [
            "one: 24402\n",
            "great: 22488\n",
            "good: 17863\n",
            "use: 16617\n",
            "works: 14547\n",
            "like: 14050\n",
            "two: 13797\n",
            "well: 13467\n",
            "would: 13114\n",
            "get: 11145\n"
          ]
        }
      ],
      "source": [
        "sorted_words = sorted(word_frequencies.items(), key=lambda x: x[1], reverse=True)\n",
        "\n",
        "top_10_words = sorted_words[:10]\n",
        "\n",
        "for word, freq in top_10_words:\n",
        "    print(f\"{word}: {freq}\")"
      ]
    },
    {
      "cell_type": "code",
      "execution_count": null,
      "metadata": {
        "colab": {
          "base_uri": "https://localhost:8080/"
        },
        "id": "_JIr_tJnzwpn",
        "outputId": "d6f7a526-c3c9-4513-a5af-bed1697f91dc"
      },
      "outputs": [
        {
          "name": "stdout",
          "output_type": "stream",
          "text": [
            "The boxplot shows that 94.25% of words occur at most 100 times out of 2318719 occurances!\n"
          ]
        }
      ],
      "source": [
        "print(f\"The boxplot shows that {getPWBT(word_frequencies, 100)}% of words occur at most 100 times out of {len(all_words)} occurances!\")"
      ]
    },
    {
      "cell_type": "markdown",
      "metadata": {
        "id": "iiRH1Kx4cn4t"
      },
      "source": [
        "Since these words probably don't add much meaningful information, I will set the threshold to 100 words. A good threshold could probably also be higher but since the negative and neutral reviews are underrepresented, I set this threshold to a smaller number so that the model can capture also meaningful words from these reviews even tho they don't appear as often as positive reviews"
      ]
    },
    {
      "cell_type": "markdown",
      "metadata": {
        "id": "BUEDCWWn159E"
      },
      "source": [
        "#### **2.22 Creates Vocabulary, Assigns Indices & Creates Word-To-Index and Index-To-Word Mappings**"
      ]
    },
    {
      "cell_type": "code",
      "execution_count": null,
      "metadata": {
        "id": "5tXYqgObxoPL"
      },
      "outputs": [],
      "source": [
        "#Size of Vocabulary\n",
        "threshold = 100\n",
        "\n",
        "#Creates vocabulary\n",
        "vocab = createVocabulary(word_frequencies, threshold)"
      ]
    },
    {
      "cell_type": "code",
      "execution_count": null,
      "metadata": {
        "colab": {
          "base_uri": "https://localhost:8080/"
        },
        "id": "UneHqez41hha",
        "outputId": "c03441e1-244d-4bcd-a8c3-98af0e52b294"
      },
      "outputs": [
        {
          "name": "stdout",
          "output_type": "stream",
          "text": [
            "('ability', 0)\n",
            "('able', 1)\n",
            "('absolute', 2)\n",
            "('absolutely', 3)\n",
            "('abuse', 4)\n",
            "('ac', 5)\n",
            "('accept', 6)\n",
            "('acceptable', 7)\n",
            "('access', 8)\n",
            "('accessible', 9)\n",
            "('accessories', 10)\n"
          ]
        }
      ],
      "source": [
        "for i, item in enumerate(vocab.items()):\n",
        "    print(item)\n",
        "    if i >= 10:\n",
        "        break"
      ]
    },
    {
      "cell_type": "code",
      "execution_count": null,
      "metadata": {
        "colab": {
          "base_uri": "https://localhost:8080/"
        },
        "id": "dLsPxDKSE97l",
        "outputId": "1b4a2479-6ff4-4e05-e1d5-03cca44cc48e"
      },
      "outputs": [
        {
          "name": "stdout",
          "output_type": "stream",
          "text": [
            "The vocabulary has a 2842 words!\n"
          ]
        }
      ],
      "source": [
        "print(f\"The vocabulary has a {len(vocab.items())} words!\")"
      ]
    },
    {
      "cell_type": "markdown",
      "metadata": {
        "id": "-F4zH2Jhna76"
      },
      "source": [
        "The length of the vocabulary (=V) will be the length of the matrix containing the weights that are trained in the Word2Vec Model. The embedding Size definied below is the width of the matrix\n",
        "\n",
        "            d\n",
        "     ________________\n",
        "    |________________|\n",
        "    |________________|\n",
        "    |________________|\n",
        "    |________________| V\n",
        "    |________________|\n",
        "    |________________|\n",
        "    |________________|"
      ]
    },
    {
      "cell_type": "code",
      "execution_count": null,
      "metadata": {
        "id": "dBX2bkRP2p--"
      },
      "outputs": [],
      "source": [
        "#Source: Class Slides\n",
        "class Tokenizer:\n",
        "  def __init__(self, vocab):\n",
        "      self.str_to_int = vocab\n",
        "      self.int_to_str = {i:s for s,i in vocab.items()}\n",
        "\n",
        "  def encode(self, text):\n",
        "      preprocessed = re.split(r' ', text.lower()) #String is converted to lower case as vocabulary only contains lower case words.\n",
        "      preprocessed = [item.strip() for item in preprocessed if item.strip()]\n",
        "\n",
        "      #I don't add a <|unk|> because these words are not needed as they are unknown.\n",
        "      preprocessed = [\n",
        "          item for item in preprocessed if item in self.str_to_int\n",
        "      ]\n",
        "\n",
        "      ids = [self.str_to_int[s] for s in preprocessed]\n",
        "      return ids\n",
        "\n",
        "  def decode(self, ids):\n",
        "      text = \" \".join([self.int_to_str[i] for i in ids])\n",
        "      return text"
      ]
    },
    {
      "cell_type": "code",
      "execution_count": null,
      "metadata": {
        "colab": {
          "base_uri": "https://localhost:8080/"
        },
        "id": "IH1xG9Z14WzS",
        "outputId": "8c0a9e78-fbac-47df-d687-57b75999b9a7"
      },
      "outputs": [
        {
          "data": {
            "text/plain": [
              "[1041, 1394, 2840]"
            ]
          },
          "execution_count": 30,
          "metadata": {},
          "output_type": "execute_result"
        }
      ],
      "source": [
        "tokenizer = Tokenizer(vocab)\n",
        "\n",
        "text = \"\"\"What a great product! I love it! <|end_of_review|>\"\"\"\n",
        "\n",
        "tokenizer.encode(text)"
      ]
    },
    {
      "cell_type": "markdown",
      "metadata": {
        "id": "A1B-bYm3mjpI"
      },
      "source": [
        "As you can see, the tokenizer removes any unknown words. This is important for the text that will later be passed to the Word2Vec Model. Otherwise the text would contain a munch of \"<|unk|>\" in it which doesn't help us here at all. Once I removed the \"<|unk|>\", the performance of the model increased!"
      ]
    },
    {
      "cell_type": "code",
      "execution_count": null,
      "metadata": {
        "colab": {
          "base_uri": "https://localhost:8080/",
          "height": 35
        },
        "id": "vbskfoUj5S9l",
        "outputId": "b63c3a1f-3158-40e2-ef2f-11617123359c"
      },
      "outputs": [
        {
          "data": {
            "application/vnd.google.colaboratory.intrinsic+json": {
              "type": "string"
            },
            "text/plain": [
              "'great love <|end_of_review|>'"
            ]
          },
          "execution_count": 31,
          "metadata": {},
          "output_type": "execute_result"
        }
      ],
      "source": [
        "tokenizer.decode(tokenizer.encode(text))"
      ]
    },
    {
      "cell_type": "markdown",
      "metadata": {
        "id": "zMwZBSJQ5ksl"
      },
      "source": [
        "## **Step 3: Simplified Word2Vec Model**"
      ]
    },
    {
      "cell_type": "code",
      "execution_count": null,
      "metadata": {
        "id": "93gBPHAE5n6M"
      },
      "outputs": [],
      "source": [
        "class SimplifiedWord2Vec(torch.nn.Module):\n",
        "  def __init__(self, vocab_size, embedding_size):\n",
        "    super(SimplifiedWord2Vec, self).__init__()\n",
        "\n",
        "    self.embedding_layer = torch.nn.Embedding(num_embeddings = vocab_size, embedding_dim = embedding_size)\n",
        "    self.output_layer = torch.nn.Linear(embedding_size, vocab_size)\n",
        "\n",
        "  #Specifies how the layers interact with each other to return the output\n",
        "  def forward(self, center_word):\n",
        "\n",
        "    embedding = self.embedding_layer(center_word) #Gets the embeddings for the center word.\n",
        "    logits = self.output_layer(embedding) #Returns the log counts for every word in the vocabulary\n",
        "    probabilities = F.softmax(logits, dim = 1) #Returns the log probs for every word in the vocab using softmax\n",
        "\n",
        "    return logits, probabilities"
      ]
    },
    {
      "cell_type": "markdown",
      "metadata": {
        "id": "BLhqDKQe_thU"
      },
      "source": [
        "## **Step 4: Word2Vec Training Data Preparation**"
      ]
    },
    {
      "cell_type": "code",
      "execution_count": null,
      "metadata": {
        "id": "aJLtIuhVAppe"
      },
      "outputs": [],
      "source": [
        "#Source: Class Notes\n",
        "class myTextDataset(Dataset):\n",
        "  def __init__(self, txt, tokenizer, window_size = 2):\n",
        "\n",
        "    self.input_ids = []\n",
        "    self.target_ids = []\n",
        "\n",
        "    # Tokenize the entire text\n",
        "    token_ids = tokenizer.encode(txt)\n",
        "\n",
        "    # Create sliding window pairs\n",
        "    for i, input_id in enumerate(token_ids):\n",
        "        # Create context window around the current token\n",
        "        start = max(0, i - window_size)\n",
        "        end = min(len(token_ids), i + window_size + 1)\n",
        "\n",
        "        # Iterate over the context window\n",
        "        for j in range(start, end):\n",
        "            if i != j:  # Exclude the current token itself\n",
        "                self.input_ids.append(input_id)\n",
        "                self.target_ids.append(token_ids[j])\n",
        "\n",
        "  #Returns the length of the whole dataset\n",
        "  def __len__(self):\n",
        "    return len(self.input_ids)\n",
        "\n",
        "  def __getitem__(self, idx):\n",
        "    return self.input_ids[idx], self.target_ids[idx]"
      ]
    },
    {
      "cell_type": "code",
      "execution_count": null,
      "metadata": {
        "id": "a6PkpuU9CaXN"
      },
      "outputs": [],
      "source": [
        "def createDataLoader(txt, batch_size = 4, shuffle = False):\n",
        "\n",
        "    # Initialize the tokenizer\n",
        "    tokenizer = Tokenizer(vocab)\n",
        "\n",
        "    # Create dataset\n",
        "    dataset = myTextDataset(txt, tokenizer) #Window Size is already assigned with default value\n",
        "\n",
        "    print(f\"The Dataset has {len(dataset)} samples\")\n",
        "    print(f\"There are {round((len(dataset) / batch_size), 2)} batches!\")\n",
        "\n",
        "    # Create dataloader\n",
        "    dataloader = DataLoader(dataset, batch_size = batch_size, #Loads data in different batches\n",
        "                            shuffle = shuffle, #Shuffles data\n",
        "                            num_workers = 0 #How many parallel CPUs the dataloader should use to load the data in parallel.\n",
        "                            )\n",
        "\n",
        "    return dataloader"
      ]
    },
    {
      "cell_type": "code",
      "execution_count": null,
      "metadata": {
        "id": "_jJmPd-CUHk7"
      },
      "outputs": [],
      "source": [
        "def chunks(lst, chunk_size):\n",
        "    for i in range(0, len(lst), chunk_size):\n",
        "        yield lst[i:i + chunk_size]"
      ]
    },
    {
      "cell_type": "markdown",
      "metadata": {
        "id": "MGuRMV4hAnNo"
      },
      "source": [
        "## **Step 5: Word2Vec Training**"
      ]
    },
    {
      "cell_type": "markdown",
      "metadata": {
        "id": "XccChy7zFnbg"
      },
      "source": [
        "**Set Hyper-Parameters**"
      ]
    },
    {
      "cell_type": "code",
      "execution_count": null,
      "metadata": {
        "id": "eu8-vI8nFeYl"
      },
      "outputs": [],
      "source": [
        "word2vec_batch_size = 7500\n",
        "word2vec_embedding_size = 150\n",
        "word2vec_num_epochs = 15\n",
        "word2vec_learning_rate = 0.01"
      ]
    },
    {
      "cell_type": "markdown",
      "metadata": {
        "id": "KcRS4AGyFpTk"
      },
      "source": [
        "**Create Dataloader**"
      ]
    },
    {
      "cell_type": "code",
      "execution_count": null,
      "metadata": {
        "id": "PS39Ip5USqhM"
      },
      "outputs": [],
      "source": [
        "reviews = amazon_reviews[\"cleaned_reviewText\"].tolist()\n",
        "\n",
        "#I add these two <|start_of_review|> and <|end_of_review|> to indicate the start and the ending of a new review.\n",
        "reviews = [f\"{review} <|end_of_review|>\" for review in reviews]\n",
        "\n",
        "#I join the reviews to a string in chunks because if I would do it at once, I would run out of memory\n",
        "all_reviews = ''.join([' '.join(chunk) + ' ' for chunk in chunks(reviews, 1000)])"
      ]
    },
    {
      "cell_type": "code",
      "execution_count": null,
      "metadata": {
        "colab": {
          "base_uri": "https://localhost:8080/"
        },
        "id": "QanI4wJCRH0P",
        "outputId": "b98bd64f-ab0e-45eb-a9cb-16494cb47f0e"
      },
      "outputs": [
        {
          "name": "stdout",
          "output_type": "stream",
          "text": [
            "The Dataset has 8260422 samples\n",
            "There are 1101.39 batches!\n"
          ]
        }
      ],
      "source": [
        "word2vec_dataloader = createDataLoader(all_reviews, batch_size = word2vec_batch_size, shuffle = False)"
      ]
    },
    {
      "cell_type": "markdown",
      "metadata": {
        "id": "7idt_vVDFseA"
      },
      "source": [
        "**Word2Vec Model**"
      ]
    },
    {
      "cell_type": "code",
      "execution_count": null,
      "metadata": {
        "id": "RIDT9TgQ_vNX"
      },
      "outputs": [],
      "source": [
        "vocab_size = len(vocab.items())\n",
        "\n",
        "word2vec_model = SimplifiedWord2Vec(vocab_size, word2vec_embedding_size)\n",
        "word2vec_optimizer = torch.optim.Adam(word2vec_model.parameters(), lr = word2vec_learning_rate)\n",
        "word2vec_loss_fn = torch.nn.CrossEntropyLoss()"
      ]
    },
    {
      "cell_type": "code",
      "execution_count": null,
      "metadata": {
        "colab": {
          "base_uri": "https://localhost:8080/"
        },
        "id": "Y3z-jIY4d4-z",
        "outputId": "a4faa2e1-523f-4cac-8243-fcabc5fc5103"
      },
      "outputs": [
        {
          "data": {
            "text/plain": [
              "SimplifiedWord2Vec(\n",
              "  (embedding_layer): Embedding(2842, 150)\n",
              "  (output_layer): Linear(in_features=150, out_features=2842, bias=True)\n",
              ")"
            ]
          },
          "execution_count": 41,
          "metadata": {},
          "output_type": "execute_result"
        }
      ],
      "source": [
        "word2vec_model.to(device)"
      ]
    },
    {
      "cell_type": "code",
      "execution_count": null,
      "metadata": {
        "colab": {
          "base_uri": "https://localhost:8080/"
        },
        "id": "0dxGaxFZd9pf",
        "outputId": "f3e65948-6785-4854-e24d-14fa9507d3bc"
      },
      "outputs": [
        {
          "data": {
            "text/plain": [
              "device(type='cuda', index=0)"
            ]
          },
          "execution_count": 42,
          "metadata": {},
          "output_type": "execute_result"
        }
      ],
      "source": [
        "next(word2vec_model.parameters()).device"
      ]
    },
    {
      "cell_type": "markdown",
      "metadata": {
        "id": "lKoIlfdlF2id"
      },
      "source": [
        "**Training**"
      ]
    },
    {
      "cell_type": "code",
      "execution_count": null,
      "metadata": {
        "colab": {
          "base_uri": "https://localhost:8080/"
        },
        "id": "LUELlHahF30B",
        "outputId": "8fd88687-7b41-4027-9b73-02ad833f920a"
      },
      "outputs": [
        {
          "name": "stdout",
          "output_type": "stream",
          "text": [
            "Epoch: 1, Loss: 6.671701908111572, Time: 0.37 Minutes\n",
            "Epoch: 2, Loss: 6.593991279602051, Time: 0.71 Minutes\n",
            "Epoch: 3, Loss: 6.556797027587891, Time: 1.08 Minutes\n",
            "Epoch: 4, Loss: 6.53833532333374, Time: 1.43 Minutes\n",
            "Epoch: 5, Loss: 6.529768943786621, Time: 1.8 Minutes\n",
            "Epoch: 6, Loss: 6.526217937469482, Time: 2.16 Minutes\n",
            "Epoch: 7, Loss: 6.524696350097656, Time: 2.53 Minutes\n",
            "Epoch: 8, Loss: 6.523720741271973, Time: 2.9 Minutes\n",
            "Epoch: 9, Loss: 6.523011684417725, Time: 3.27 Minutes\n",
            "Epoch: 10, Loss: 6.522725582122803, Time: 3.64 Minutes\n",
            "Epoch: 11, Loss: 6.522604465484619, Time: 4.02 Minutes\n",
            "Epoch: 12, Loss: 6.5225090980529785, Time: 4.38 Minutes\n",
            "Epoch: 13, Loss: 6.52238130569458, Time: 4.75 Minutes\n",
            "Epoch: 14, Loss: 6.522297382354736, Time: 5.11 Minutes\n",
            "Epoch: 15, Loss: 6.522256374359131, Time: 5.48 Minutes\n"
          ]
        }
      ],
      "source": [
        "start_time = time.time()\n",
        "\n",
        "word2vec_model.train()\n",
        "losses = []\n",
        "\n",
        "length_train = len(word2vec_dataloader)\n",
        "\n",
        "#This is supposed to increase available memory\n",
        "torch.cuda.empty_cache()\n",
        "\n",
        "for epoch in range(word2vec_num_epochs):\n",
        "  for i, (center_words, context_words) in enumerate(word2vec_dataloader):\n",
        "\n",
        "    center_words = center_words.to(device) #The center word is the feature\n",
        "    context_words = context_words.to(device) #The context words are the labels\n",
        "\n",
        "    logits, probabilities = word2vec_model(center_words) #Forward Pass\n",
        "\n",
        "    loss = word2vec_loss_fn(logits, context_words)\n",
        "\n",
        "    #Performs gradient descent for current batch\n",
        "    word2vec_optimizer.zero_grad()\n",
        "    loss.backward() #Computes the gradient of the loss wight regard to the weights\n",
        "    word2vec_optimizer.step() #Subtracts the gradients of the weights from the weights.\n",
        "\n",
        "  #Appends losses to list\n",
        "  losses.append(loss.item())\n",
        "\n",
        "  torch.cuda.empty_cache()\n",
        "\n",
        "  current_time = round((time.time() - start_time) / 60, 2) #Calculates current time\n",
        "  current_epoch = epoch + 1\n",
        "\n",
        "  print(f\"Epoch: {current_epoch}, Loss: {loss.item()}, Time: {current_time} Minutes\")\n",
        "\n",
        "#Saving Model after training it.\n",
        "torch.save(word2vec_model.state_dict(), f\"{path_dir}/Models/Word2VecModel.pth\")"
      ]
    },
    {
      "cell_type": "markdown",
      "metadata": {
        "id": "SLnS0Z66px59"
      },
      "source": [
        "# **<u>Part 2: Sentiment Analysis</u>**\n",
        "\n"
      ]
    },
    {
      "cell_type": "markdown",
      "metadata": {
        "id": "KlCt7trwwbW2"
      },
      "source": [
        "During training I had issues with predicting every single review to be a positive one. I think this was due to many different issues:\n",
        "\n",
        "1. There is a strong imbalance of sentiment classifications. A large majority of reviews have a positive sentiment while only some are neutral or negative. To address this, I added weights to the CrossEntropyLoss function that reflect the underrepresentation of negative and neutral reviews. I also oversampled negative and neutral reviews relatively to positive reviews in the subset for the sentiment analysis.\n",
        "2. I originally included more words (threshold = 10) in the Word2Vec model.\n",
        "3. I padded the sequences in the Sentiment Model to the maximum review length in my subset. This resultet in many reviews including many \"0\". I then changed it so that instead the fixed length is equal to the median length of the reviews. This improved performance dramatically"
      ]
    },
    {
      "cell_type": "markdown",
      "metadata": {
        "id": "2Mw9pteCp3X1"
      },
      "source": [
        "## **Step 1: Create Labeled Subset**"
      ]
    },
    {
      "cell_type": "markdown",
      "metadata": {
        "id": "QwCdwvdPwaR6"
      },
      "source": [
        "**Label Data**"
      ]
    },
    {
      "cell_type": "code",
      "execution_count": null,
      "metadata": {
        "id": "r-wsU1T5wpT-"
      },
      "outputs": [],
      "source": [
        "def setSentiment(overall):\n",
        "  if overall >= 4:\n",
        "    return 0\n",
        "  elif overall <= 2:\n",
        "    return 1\n",
        "  else:\n",
        "    return 2"
      ]
    },
    {
      "cell_type": "code",
      "execution_count": null,
      "metadata": {
        "id": "T6dO9HYqwp7f"
      },
      "outputs": [],
      "source": [
        "#Sets sentiment for every review\n",
        "amazon_reviews[\"Sentiment\"] = amazon_reviews[\"overall\"].apply(setSentiment)"
      ]
    },
    {
      "cell_type": "markdown",
      "metadata": {
        "id": "3sJyj-3T0UnB"
      },
      "source": [
        "As you can see, there is a strong imbalance in the data. Positive reviews make up about 80% of the data. Negative and Neutral Reviews make up only around 11% and 9% respectively."
      ]
    },
    {
      "cell_type": "code",
      "execution_count": null,
      "metadata": {
        "colab": {
          "base_uri": "https://localhost:8080/"
        },
        "id": "wqt6NBIswkfk",
        "outputId": "287a48b2-f403-4e46-c907-a9c04fbb4a40"
      },
      "outputs": [
        {
          "name": "stdout",
          "output_type": "stream",
          "text": [
            "Sentiment\n",
            "0    55098\n",
            "1     7775\n",
            "2     5130\n",
            "Name: count, dtype: int64\n"
          ]
        }
      ],
      "source": [
        "#View Distribution of Sentiment\n",
        "sentiment_counts = amazon_reviews[\"Sentiment\"].value_counts()\n",
        "\n",
        "print(sentiment_counts)"
      ]
    },
    {
      "cell_type": "markdown",
      "metadata": {
        "id": "3oMAX52Rwdqf"
      },
      "source": [
        "**Subset Data**"
      ]
    },
    {
      "cell_type": "markdown",
      "metadata": {
        "id": "lupDcLLToITA"
      },
      "source": [
        "I subset the data and sample only 50% positive reviews. 30% are negative and 20% are neutral reviews. I decided not to sample equal sizes to still capture the nature of the data that positive reviews occur more often."
      ]
    },
    {
      "cell_type": "code",
      "execution_count": null,
      "metadata": {
        "colab": {
          "base_uri": "https://localhost:8080/"
        },
        "id": "K--qhx80xkfh",
        "outputId": "f9be7bdf-4234-4dd5-ee2a-cfb2001d5b91"
      },
      "outputs": [
        {
          "name": "stderr",
          "output_type": "stream",
          "text": [
            "<ipython-input-47-0c02c5028cdb>:24: DeprecationWarning: DataFrameGroupBy.apply operated on the grouping columns. This behavior is deprecated, and in a future version of pandas the grouping columns will be excluded from the operation. Either pass `include_groups=False` to exclude the groupings or explicitly select the grouping columns after groupby to silence this warning.\n",
            "  .apply(lambda x: x.sample(n = samples_per_class[x.name], random_state = random_state))\n"
          ]
        }
      ],
      "source": [
        "sample_size = 0.1\n",
        "random_state = 603\n",
        "\n",
        "#Those are the shares that I want in my subset for the different classes.\n",
        "class_shares = {\n",
        "    0: 0.5,\n",
        "    1: 0.3,\n",
        "    2: 0.2\n",
        "}\n",
        "\n",
        "# Total number of samples based on sample size\n",
        "# Need Integer for this to work\n",
        "total_samples = int(len(amazon_reviews) * sample_size)\n",
        "\n",
        "#I calculate the samples per class based on the proportions given in class_shares\n",
        "samples_per_class = {\n",
        "    sentiment: int(total_samples * proportion) for sentiment, proportion in class_shares.items()\n",
        "}\n",
        "\n",
        "#For each sentiment, I sample samples_per_class reviews. This is achieved by the groupby statement.\n",
        "amazon_reviews_subset = (\n",
        "    amazon_reviews\n",
        "    .groupby(\"Sentiment\", group_keys=False)\n",
        "    .apply(lambda x: x.sample(n = samples_per_class[x.name], random_state = random_state))\n",
        "    .reset_index(drop=True)\n",
        ")"
      ]
    },
    {
      "cell_type": "markdown",
      "metadata": {
        "id": "d4tJyYm60HSq"
      },
      "source": [
        "As you can see now, the sentiment classes are more balanced."
      ]
    },
    {
      "cell_type": "code",
      "execution_count": null,
      "metadata": {
        "colab": {
          "base_uri": "https://localhost:8080/"
        },
        "id": "yZzv8is4xu_7",
        "outputId": "d25055d2-047e-42fb-96d2-046bad2f73a2"
      },
      "outputs": [
        {
          "name": "stdout",
          "output_type": "stream",
          "text": [
            "Sentiment\n",
            "0    3400\n",
            "1    2040\n",
            "2    1360\n",
            "Name: count, dtype: int64\n"
          ]
        }
      ],
      "source": [
        "#View Distribution of Sentiment\n",
        "sentiment_counts = amazon_reviews_subset[\"Sentiment\"].value_counts()\n",
        "\n",
        "print(sentiment_counts)"
      ]
    },
    {
      "cell_type": "markdown",
      "metadata": {
        "id": "PJjoMpN9wiCH"
      },
      "source": [
        "**Train-Test-Validation Split**"
      ]
    },
    {
      "cell_type": "code",
      "execution_count": null,
      "metadata": {
        "colab": {
          "base_uri": "https://localhost:8080/"
        },
        "id": "ecwgmctOwl0q",
        "outputId": "66a75973-c213-4d88-f6e9-cfb158a43f76"
      },
      "outputs": [
        {
          "name": "stdout",
          "output_type": "stream",
          "text": [
            "Training Size: 5440 Reviews | 80.0%\n",
            "Validation Size: 1020 Reviews | 15.0%\n",
            "Test Size: 340 Reviews | 5.0%\n"
          ]
        }
      ],
      "source": [
        "#Set relative sizes\n",
        "train_size = 0.8 #Saves 70% of data into train set\n",
        "test_size = 0.05 #Saves 10% of data into test set\n",
        "validation_size = 0.12625 / train_size #Saves 20% of the data into validation set\n",
        "\n",
        "#Splits data into train, test and validation set\n",
        "train_val, test_data = train_test_split(amazon_reviews_subset, test_size = test_size, shuffle = True, random_state = random_state)\n",
        "train_data, validation_data = train_test_split(train_val, test_size = validation_size, shuffle = True, random_state = random_state)\n",
        "\n",
        "train_data = train_data.reset_index(drop = True)\n",
        "validation_data = validation_data.reset_index(drop = True)\n",
        "test_data = test_data.reset_index(drop = True)\n",
        "\n",
        "#Gets total length of subset dataset\n",
        "total_length = len(amazon_reviews_subset)\n",
        "\n",
        "#Calculates relative size\n",
        "training_size_rel = round((len(train_data) / total_length) * 100, 2)\n",
        "validation_size_rel = round((len(validation_data) / total_length) * 100, 2)\n",
        "test_size_rel = round((len(test_data) / total_length) * 100, 2)\n",
        "\n",
        "#Prints sizes\n",
        "print(f\"Training Size: {len(train_data)} Reviews | {training_size_rel}%\")\n",
        "print(f\"Validation Size: {len(validation_data)} Reviews | {validation_size_rel}%\")\n",
        "print(f\"Test Size: {len(test_data)} Reviews | {test_size_rel}%\")"
      ]
    },
    {
      "cell_type": "markdown",
      "metadata": {
        "id": "k_uxJsBqzam0"
      },
      "source": [
        "## **Step 2: Sentiment Analysis Model**"
      ]
    },
    {
      "cell_type": "code",
      "execution_count": null,
      "metadata": {
        "id": "y2O9sYWWzdGm"
      },
      "outputs": [],
      "source": [
        "#Sentiment Analysis Model\n",
        "class SentimentAnalysisModel(torch.nn.Module):\n",
        "  def __init__(self, vocab_size, embedding_size, pretrained_embeddings_weights, freeze_embeddings, use_hidden_layer = False, hidden_size = 24, num_scores = 3):\n",
        "    super(SentimentAnalysisModel, self).__init__()\n",
        "\n",
        "    #Source: https://stackoverflow.com/questions/64919743/pytorch-use-pretrained-vectors-to-initialize-nn-embedding-but-this-embedding-l\n",
        "    # Creates & Initializes embedding layer with pre-trained embedding weights.\n",
        "    # Freeze option is based on argument given to model.\n",
        "    self.embedding_layer = torch.nn.Embedding.from_pretrained(pretrained_embeddings_weights, freeze = freeze_embeddings)\n",
        "\n",
        "    if use_hidden_layer:\n",
        "      self.hidden_layer = torch.nn.Linear(embedding_size, hidden_size)\n",
        "      self.output_layer = torch.nn.Linear(hidden_size, num_scores)\n",
        "    else:\n",
        "      self.hidden_layer = None\n",
        "      self.output_layer = torch.nn.Linear(embedding_size, num_scores)\n",
        "\n",
        "  #Foward\n",
        "  def forward(self, input_ids):\n",
        "\n",
        "    #Embedding layer\n",
        "    embeddings = self.embedding_layer(input_ids)\n",
        "\n",
        "    #Calculates average of embeddings\n",
        "    average_embeddings = embeddings.mean(dim = 1)\n",
        "\n",
        "    if self.hidden_layer:\n",
        "      hidden_output = F.relu(self.hidden_layer(average_embeddings))\n",
        "    else:\n",
        "      hidden_output = average_embeddings\n",
        "\n",
        "    #Scores for classes\n",
        "    logits = self.output_layer(hidden_output)\n",
        "\n",
        "    #Probabilities of scores\n",
        "    probabilities = F.softmax(logits, dim = 1)\n",
        "\n",
        "    #Returns probabilities\n",
        "    return logits, probabilities"
      ]
    },
    {
      "cell_type": "markdown",
      "metadata": {
        "id": "wOL6H-vcRUYm"
      },
      "source": [
        "## **Step 3: Training Data Preparation**"
      ]
    },
    {
      "cell_type": "markdown",
      "metadata": {
        "id": "2hp_0UU2TW43"
      },
      "source": [
        "**Tokenize the Reviews**"
      ]
    },
    {
      "cell_type": "code",
      "execution_count": null,
      "metadata": {
        "id": "C5d7O0E4RWvw"
      },
      "outputs": [],
      "source": [
        "#Tokenizing the reviews\n",
        "train_data[\"review_token_ids\"] = train_data[\"cleaned_reviewText\"].apply(lambda rw: tokenizer.encode(rw))\n",
        "validation_data[\"review_token_ids\"] = validation_data[\"cleaned_reviewText\"].apply(lambda rw: tokenizer.encode(rw))\n",
        "test_data[\"review_token_ids\"] = test_data[\"cleaned_reviewText\"].apply(lambda rw: tokenizer.encode(rw))"
      ]
    },
    {
      "cell_type": "code",
      "execution_count": null,
      "metadata": {
        "colab": {
          "base_uri": "https://localhost:8080/",
          "height": 206
        },
        "id": "plba7ZNrTBgu",
        "outputId": "c53c375e-d735-4af0-eaa7-4df325e25317"
      },
      "outputs": [
        {
          "data": {
            "application/vnd.google.colaboratory.intrinsic+json": {
              "summary": "{\n  \"name\": \"train_data[[\\\"cleaned_reviewText\\\", \\\"review_token_ids\\\"]]\",\n  \"rows\": 5,\n  \"fields\": [\n    {\n      \"column\": \"cleaned_reviewText\",\n      \"properties\": {\n        \"dtype\": \"string\",\n        \"num_unique_values\": 5,\n        \"samples\": [\n          \"great\",\n          \"use mountain bike find quite durable easy use single ride totally sold ram mount system features cradle particularly like needing remove carabiner clip gps unit ease insertion removal gps solid build quality cradle works really well rest ram mount system far away better manufacturers solution replacement battery door cover installation takes seconds accomplished via two small screws three different lengths provided threading thick section plastic added strength even rough terrain gps never comes loose holder yet remove easily one hand anything happened thing buy another without hesitation\",\n          \"software came unit work unit seems good already blu ray software good unit\"\n        ],\n        \"semantic_type\": \"\",\n        \"description\": \"\"\n      }\n    },\n    {\n      \"column\": \"review_token_ids\",\n      \"properties\": {\n        \"dtype\": \"object\",\n        \"semantic_type\": \"\",\n        \"description\": \"\"\n      }\n    }\n  ]\n}",
              "type": "dataframe"
            },
            "text/html": [
              "\n",
              "  <div id=\"df-04a7cb11-a9e0-4f8f-880d-13e9eebca6d9\" class=\"colab-df-container\">\n",
              "    <div>\n",
              "<style scoped>\n",
              "    .dataframe tbody tr th:only-of-type {\n",
              "        vertical-align: middle;\n",
              "    }\n",
              "\n",
              "    .dataframe tbody tr th {\n",
              "        vertical-align: top;\n",
              "    }\n",
              "\n",
              "    .dataframe thead th {\n",
              "        text-align: right;\n",
              "    }\n",
              "</style>\n",
              "<table border=\"1\" class=\"dataframe\">\n",
              "  <thead>\n",
              "    <tr style=\"text-align: right;\">\n",
              "      <th></th>\n",
              "      <th>cleaned_reviewText</th>\n",
              "      <th>review_token_ids</th>\n",
              "    </tr>\n",
              "  </thead>\n",
              "  <tbody>\n",
              "    <tr>\n",
              "      <th>0</th>\n",
              "      <td>long range phone app works well three access p...</td>\n",
              "      <td>[1377, 1941, 1746, 106, 2802, 2758, 2497, 8, 1...</td>\n",
              "    </tr>\n",
              "    <tr>\n",
              "      <th>1</th>\n",
              "      <td>great</td>\n",
              "      <td>[1041]</td>\n",
              "    </tr>\n",
              "    <tr>\n",
              "      <th>2</th>\n",
              "      <td>software came unit work unit seems good alread...</td>\n",
              "      <td>[2273, 321, 2643, 2799, 2643, 2134, 1030, 70, ...</td>\n",
              "    </tr>\n",
              "    <tr>\n",
              "      <th>3</th>\n",
              "      <td>well verbatim disappoint least always enjoy ve...</td>\n",
              "      <td>[2758, 1305, 75, 762, 665, 1942, 2581, 830, 12...</td>\n",
              "    </tr>\n",
              "    <tr>\n",
              "      <th>4</th>\n",
              "      <td>use mountain bike find quite durable easy use ...</td>\n",
              "      <td>[2671, 230, 881, 1931, 708, 728, 2671, 2221, 2...</td>\n",
              "    </tr>\n",
              "  </tbody>\n",
              "</table>\n",
              "</div>\n",
              "    <div class=\"colab-df-buttons\">\n",
              "\n",
              "  <div class=\"colab-df-container\">\n",
              "    <button class=\"colab-df-convert\" onclick=\"convertToInteractive('df-04a7cb11-a9e0-4f8f-880d-13e9eebca6d9')\"\n",
              "            title=\"Convert this dataframe to an interactive table.\"\n",
              "            style=\"display:none;\">\n",
              "\n",
              "  <svg xmlns=\"http://www.w3.org/2000/svg\" height=\"24px\" viewBox=\"0 -960 960 960\">\n",
              "    <path d=\"M120-120v-720h720v720H120Zm60-500h600v-160H180v160Zm220 220h160v-160H400v160Zm0 220h160v-160H400v160ZM180-400h160v-160H180v160Zm440 0h160v-160H620v160ZM180-180h160v-160H180v160Zm440 0h160v-160H620v160Z\"/>\n",
              "  </svg>\n",
              "    </button>\n",
              "\n",
              "  <style>\n",
              "    .colab-df-container {\n",
              "      display:flex;\n",
              "      gap: 12px;\n",
              "    }\n",
              "\n",
              "    .colab-df-convert {\n",
              "      background-color: #E8F0FE;\n",
              "      border: none;\n",
              "      border-radius: 50%;\n",
              "      cursor: pointer;\n",
              "      display: none;\n",
              "      fill: #1967D2;\n",
              "      height: 32px;\n",
              "      padding: 0 0 0 0;\n",
              "      width: 32px;\n",
              "    }\n",
              "\n",
              "    .colab-df-convert:hover {\n",
              "      background-color: #E2EBFA;\n",
              "      box-shadow: 0px 1px 2px rgba(60, 64, 67, 0.3), 0px 1px 3px 1px rgba(60, 64, 67, 0.15);\n",
              "      fill: #174EA6;\n",
              "    }\n",
              "\n",
              "    .colab-df-buttons div {\n",
              "      margin-bottom: 4px;\n",
              "    }\n",
              "\n",
              "    [theme=dark] .colab-df-convert {\n",
              "      background-color: #3B4455;\n",
              "      fill: #D2E3FC;\n",
              "    }\n",
              "\n",
              "    [theme=dark] .colab-df-convert:hover {\n",
              "      background-color: #434B5C;\n",
              "      box-shadow: 0px 1px 3px 1px rgba(0, 0, 0, 0.15);\n",
              "      filter: drop-shadow(0px 1px 2px rgba(0, 0, 0, 0.3));\n",
              "      fill: #FFFFFF;\n",
              "    }\n",
              "  </style>\n",
              "\n",
              "    <script>\n",
              "      const buttonEl =\n",
              "        document.querySelector('#df-04a7cb11-a9e0-4f8f-880d-13e9eebca6d9 button.colab-df-convert');\n",
              "      buttonEl.style.display =\n",
              "        google.colab.kernel.accessAllowed ? 'block' : 'none';\n",
              "\n",
              "      async function convertToInteractive(key) {\n",
              "        const element = document.querySelector('#df-04a7cb11-a9e0-4f8f-880d-13e9eebca6d9');\n",
              "        const dataTable =\n",
              "          await google.colab.kernel.invokeFunction('convertToInteractive',\n",
              "                                                    [key], {});\n",
              "        if (!dataTable) return;\n",
              "\n",
              "        const docLinkHtml = 'Like what you see? Visit the ' +\n",
              "          '<a target=\"_blank\" href=https://colab.research.google.com/notebooks/data_table.ipynb>data table notebook</a>'\n",
              "          + ' to learn more about interactive tables.';\n",
              "        element.innerHTML = '';\n",
              "        dataTable['output_type'] = 'display_data';\n",
              "        await google.colab.output.renderOutput(dataTable, element);\n",
              "        const docLink = document.createElement('div');\n",
              "        docLink.innerHTML = docLinkHtml;\n",
              "        element.appendChild(docLink);\n",
              "      }\n",
              "    </script>\n",
              "  </div>\n",
              "\n",
              "\n",
              "<div id=\"df-8390fa8e-0874-4e77-9b07-9e5354388570\">\n",
              "  <button class=\"colab-df-quickchart\" onclick=\"quickchart('df-8390fa8e-0874-4e77-9b07-9e5354388570')\"\n",
              "            title=\"Suggest charts\"\n",
              "            style=\"display:none;\">\n",
              "\n",
              "<svg xmlns=\"http://www.w3.org/2000/svg\" height=\"24px\"viewBox=\"0 0 24 24\"\n",
              "     width=\"24px\">\n",
              "    <g>\n",
              "        <path d=\"M19 3H5c-1.1 0-2 .9-2 2v14c0 1.1.9 2 2 2h14c1.1 0 2-.9 2-2V5c0-1.1-.9-2-2-2zM9 17H7v-7h2v7zm4 0h-2V7h2v10zm4 0h-2v-4h2v4z\"/>\n",
              "    </g>\n",
              "</svg>\n",
              "  </button>\n",
              "\n",
              "<style>\n",
              "  .colab-df-quickchart {\n",
              "      --bg-color: #E8F0FE;\n",
              "      --fill-color: #1967D2;\n",
              "      --hover-bg-color: #E2EBFA;\n",
              "      --hover-fill-color: #174EA6;\n",
              "      --disabled-fill-color: #AAA;\n",
              "      --disabled-bg-color: #DDD;\n",
              "  }\n",
              "\n",
              "  [theme=dark] .colab-df-quickchart {\n",
              "      --bg-color: #3B4455;\n",
              "      --fill-color: #D2E3FC;\n",
              "      --hover-bg-color: #434B5C;\n",
              "      --hover-fill-color: #FFFFFF;\n",
              "      --disabled-bg-color: #3B4455;\n",
              "      --disabled-fill-color: #666;\n",
              "  }\n",
              "\n",
              "  .colab-df-quickchart {\n",
              "    background-color: var(--bg-color);\n",
              "    border: none;\n",
              "    border-radius: 50%;\n",
              "    cursor: pointer;\n",
              "    display: none;\n",
              "    fill: var(--fill-color);\n",
              "    height: 32px;\n",
              "    padding: 0;\n",
              "    width: 32px;\n",
              "  }\n",
              "\n",
              "  .colab-df-quickchart:hover {\n",
              "    background-color: var(--hover-bg-color);\n",
              "    box-shadow: 0 1px 2px rgba(60, 64, 67, 0.3), 0 1px 3px 1px rgba(60, 64, 67, 0.15);\n",
              "    fill: var(--button-hover-fill-color);\n",
              "  }\n",
              "\n",
              "  .colab-df-quickchart-complete:disabled,\n",
              "  .colab-df-quickchart-complete:disabled:hover {\n",
              "    background-color: var(--disabled-bg-color);\n",
              "    fill: var(--disabled-fill-color);\n",
              "    box-shadow: none;\n",
              "  }\n",
              "\n",
              "  .colab-df-spinner {\n",
              "    border: 2px solid var(--fill-color);\n",
              "    border-color: transparent;\n",
              "    border-bottom-color: var(--fill-color);\n",
              "    animation:\n",
              "      spin 1s steps(1) infinite;\n",
              "  }\n",
              "\n",
              "  @keyframes spin {\n",
              "    0% {\n",
              "      border-color: transparent;\n",
              "      border-bottom-color: var(--fill-color);\n",
              "      border-left-color: var(--fill-color);\n",
              "    }\n",
              "    20% {\n",
              "      border-color: transparent;\n",
              "      border-left-color: var(--fill-color);\n",
              "      border-top-color: var(--fill-color);\n",
              "    }\n",
              "    30% {\n",
              "      border-color: transparent;\n",
              "      border-left-color: var(--fill-color);\n",
              "      border-top-color: var(--fill-color);\n",
              "      border-right-color: var(--fill-color);\n",
              "    }\n",
              "    40% {\n",
              "      border-color: transparent;\n",
              "      border-right-color: var(--fill-color);\n",
              "      border-top-color: var(--fill-color);\n",
              "    }\n",
              "    60% {\n",
              "      border-color: transparent;\n",
              "      border-right-color: var(--fill-color);\n",
              "    }\n",
              "    80% {\n",
              "      border-color: transparent;\n",
              "      border-right-color: var(--fill-color);\n",
              "      border-bottom-color: var(--fill-color);\n",
              "    }\n",
              "    90% {\n",
              "      border-color: transparent;\n",
              "      border-bottom-color: var(--fill-color);\n",
              "    }\n",
              "  }\n",
              "</style>\n",
              "\n",
              "  <script>\n",
              "    async function quickchart(key) {\n",
              "      const quickchartButtonEl =\n",
              "        document.querySelector('#' + key + ' button');\n",
              "      quickchartButtonEl.disabled = true;  // To prevent multiple clicks.\n",
              "      quickchartButtonEl.classList.add('colab-df-spinner');\n",
              "      try {\n",
              "        const charts = await google.colab.kernel.invokeFunction(\n",
              "            'suggestCharts', [key], {});\n",
              "      } catch (error) {\n",
              "        console.error('Error during call to suggestCharts:', error);\n",
              "      }\n",
              "      quickchartButtonEl.classList.remove('colab-df-spinner');\n",
              "      quickchartButtonEl.classList.add('colab-df-quickchart-complete');\n",
              "    }\n",
              "    (() => {\n",
              "      let quickchartButtonEl =\n",
              "        document.querySelector('#df-8390fa8e-0874-4e77-9b07-9e5354388570 button');\n",
              "      quickchartButtonEl.style.display =\n",
              "        google.colab.kernel.accessAllowed ? 'block' : 'none';\n",
              "    })();\n",
              "  </script>\n",
              "</div>\n",
              "\n",
              "    </div>\n",
              "  </div>\n"
            ],
            "text/plain": [
              "                                  cleaned_reviewText  \\\n",
              "0  long range phone app works well three access p...   \n",
              "1                                              great   \n",
              "2  software came unit work unit seems good alread...   \n",
              "3  well verbatim disappoint least always enjoy ve...   \n",
              "4  use mountain bike find quite durable easy use ...   \n",
              "\n",
              "                                    review_token_ids  \n",
              "0  [1377, 1941, 1746, 106, 2802, 2758, 2497, 8, 1...  \n",
              "1                                             [1041]  \n",
              "2  [2273, 321, 2643, 2799, 2643, 2134, 1030, 70, ...  \n",
              "3  [2758, 1305, 75, 762, 665, 1942, 2581, 830, 12...  \n",
              "4  [2671, 230, 881, 1931, 708, 728, 2671, 2221, 2...  "
            ]
          },
          "execution_count": 52,
          "metadata": {},
          "output_type": "execute_result"
        }
      ],
      "source": [
        "train_data[[\"cleaned_reviewText\", \"review_token_ids\"]].head()"
      ]
    },
    {
      "cell_type": "code",
      "execution_count": null,
      "metadata": {
        "id": "uphI_Y_Ne320"
      },
      "outputs": [],
      "source": [
        "#Keeping only the token ids\n",
        "train_reviews = train_data[\"review_token_ids\"]\n",
        "validation_reviews = validation_data[\"review_token_ids\"]\n",
        "test_reviews = test_data[\"review_token_ids\"]"
      ]
    },
    {
      "cell_type": "markdown",
      "metadata": {
        "id": "7IItDgoBTZKV"
      },
      "source": [
        "**Pad the Sequences to a Fixed Length**"
      ]
    },
    {
      "cell_type": "code",
      "execution_count": null,
      "metadata": {
        "id": "qaZhtf7sTcyR"
      },
      "outputs": [],
      "source": [
        "#I understand padding a sequence as adding zeros to a given list until the number of values in that list matches a given number.\n",
        "def padSequenceToFixedLength(sequences):\n",
        "\n",
        "  #I pad the sequences to the median length of all sequences\n",
        "  sequence_lengths = [len(sequence) for sequence in sequences]\n",
        "  median_length = int(np.median(sequence_lengths))\n",
        "\n",
        "  #Sequence is empty at beginning\n",
        "  padded_sequences = []\n",
        "\n",
        "  #Sequences are all reviews as token ids\n",
        "  #I loop over each sequence\n",
        "  for sequence in sequences:\n",
        "\n",
        "    #Check if the length of the current sequence is smaller than the max value\n",
        "    if len(sequence) < median_length:\n",
        "\n",
        "      #In this case I take the sequence and add as many zeros until the max length value is reached\n",
        "      sequence = sequence + [0] * (median_length - len(sequence))\n",
        "    else:\n",
        "\n",
        "      #Otherwise I set the sequence to sequence until the max length value is reached (In case the max_lenght variable is smaller than the current sequence is long)\n",
        "      sequence = sequence[:median_length]\n",
        "\n",
        "    #I then add the padded sequence to the list\n",
        "    padded_sequences.append(sequence)\n",
        "\n",
        "  #I return the list of lists of sequences\n",
        "  return padded_sequences\n"
      ]
    },
    {
      "cell_type": "code",
      "execution_count": null,
      "metadata": {
        "id": "dmQrA0zHewXC"
      },
      "outputs": [],
      "source": [
        "#Pads sequences for all reviews of the datasets\n",
        "train_reviews_padded = padSequenceToFixedLength(train_reviews)\n",
        "validation_reviews_padded = padSequenceToFixedLength(validation_reviews)\n",
        "test_reviews_padded = padSequenceToFixedLength(test_reviews)"
      ]
    },
    {
      "cell_type": "markdown",
      "metadata": {
        "id": "WkpbYI8Niev7"
      },
      "source": [
        "**Converting lists to Tensors (Needed for Training)**"
      ]
    },
    {
      "cell_type": "code",
      "execution_count": null,
      "metadata": {
        "id": "q5WB2JSPiiet"
      },
      "outputs": [],
      "source": [
        "#I convert the lists to tensors. I also convert the sentiment values to tensors as the y\n",
        "train_X = torch.tensor(train_reviews_padded)\n",
        "train_y = torch.tensor(train_data[\"Sentiment\"].values)\n",
        "\n",
        "validation_X = torch.tensor(validation_reviews_padded)\n",
        "validation_y = torch.tensor(validation_data[\"Sentiment\"].values)\n",
        "\n",
        "test_X = torch.tensor(test_reviews_padded)\n",
        "test_y = torch.tensor(test_data[\"Sentiment\"].values)"
      ]
    },
    {
      "cell_type": "code",
      "execution_count": null,
      "metadata": {
        "colab": {
          "base_uri": "https://localhost:8080/"
        },
        "id": "61hqujgbi0fq",
        "outputId": "858665af-1d51-4661-8d8f-8b564a3dc571"
      },
      "outputs": [
        {
          "data": {
            "text/plain": [
              "tensor([[1377, 1941, 1746,  ...,   81,  952,    0],\n",
              "        [1041,    0,    0,  ...,    0,    0,    0],\n",
              "        [2273,  321, 2643,  ...,    0,    0,    0],\n",
              "        ...,\n",
              "        [1379, 1577,  728,  ...,    0,    0,    0],\n",
              "        [1018, 1617,    5,  ...,    0,    0,    0],\n",
              "        [ 217,  322,  894,  ..., 1414, 2298, 2778]])"
            ]
          },
          "execution_count": 59,
          "metadata": {},
          "output_type": "execute_result"
        }
      ],
      "source": [
        "train_X #These are the ids of the words in the vocabulary"
      ]
    },
    {
      "cell_type": "code",
      "execution_count": null,
      "metadata": {
        "colab": {
          "base_uri": "https://localhost:8080/"
        },
        "id": "lcr16nECi2Ry",
        "outputId": "84ba4ecf-7d10-481a-e6a0-9c5f0a542c34"
      },
      "outputs": [
        {
          "data": {
            "text/plain": [
              "tensor([0, 0, 2,  ..., 2, 2, 2])"
            ]
          },
          "execution_count": 60,
          "metadata": {},
          "output_type": "execute_result"
        }
      ],
      "source": [
        "train_y #This are the sentiment labels"
      ]
    },
    {
      "cell_type": "markdown",
      "metadata": {
        "id": "XNv_BFx5lA58"
      },
      "source": [
        "## **Step 4: Training**"
      ]
    },
    {
      "cell_type": "markdown",
      "metadata": {
        "id": "IDOqpTVRjnUO"
      },
      "source": [
        "**Set Hyper-Parameters**"
      ]
    },
    {
      "cell_type": "code",
      "execution_count": null,
      "metadata": {
        "id": "4hQcZ1rGjn1O"
      },
      "outputs": [],
      "source": [
        "batch_size = 8\n",
        "num_epochs = 60\n",
        "learning_rate = 0.0001"
      ]
    },
    {
      "cell_type": "markdown",
      "metadata": {
        "id": "LZRNN3mvi6Kt"
      },
      "source": [
        "**Creating Dataloaders**"
      ]
    },
    {
      "cell_type": "code",
      "execution_count": null,
      "metadata": {
        "id": "9LBwsWJii8ZE"
      },
      "outputs": [],
      "source": [
        "#Source: https://stackoverflow.com/questions/41924453/pytorch-how-to-use-dataloaders-for-custom-datasets\n",
        "train_dataset = TensorDataset(train_X, train_y)\n",
        "validation_dataset = TensorDataset(validation_X, validation_y)\n",
        "test_dataset = TensorDataset(test_X, test_y)\n",
        "\n",
        "train_dataloader = DataLoader(train_dataset, batch_size = batch_size, shuffle = True)\n",
        "validation_dataloader = DataLoader(validation_dataset, batch_size = batch_size, shuffle = False)\n",
        "test_dataloader = DataLoader(test_dataset, batch_size = batch_size, shuffle = False)"
      ]
    },
    {
      "cell_type": "code",
      "execution_count": null,
      "metadata": {
        "colab": {
          "base_uri": "https://localhost:8080/"
        },
        "id": "byVWBg6Eq_5-",
        "outputId": "e8f9056a-428a-4aff-e1da-93eac4744bc1"
      },
      "outputs": [
        {
          "name": "stdout",
          "output_type": "stream",
          "text": [
            "The Dataset has 5440 samples\n",
            "There are 680.0 batches!\n"
          ]
        }
      ],
      "source": [
        "print(f\"The Dataset has {len(train_dataset)} samples\")\n",
        "print(f\"There are {round((len(train_dataset) / batch_size), 2)} batches!\")"
      ]
    },
    {
      "cell_type": "markdown",
      "metadata": {
        "id": "lIlFGY1xlDWp"
      },
      "source": [
        "**Get Embedding Weights of Word2Vec Model**"
      ]
    },
    {
      "cell_type": "markdown",
      "metadata": {
        "id": "uJ759gvloKL7"
      },
      "source": [
        "As explained above, the shape of the embedding_weights matches the length of the vocabulary (Length) and the embedding size (Width)"
      ]
    },
    {
      "cell_type": "code",
      "execution_count": null,
      "metadata": {
        "id": "ezn9QrThmLDY"
      },
      "outputs": [],
      "source": [
        "#The embedding weights\n",
        "pre_trained_embedding_weights = word2vec_model.embedding_layer.weight.data"
      ]
    },
    {
      "cell_type": "code",
      "execution_count": null,
      "metadata": {
        "colab": {
          "base_uri": "https://localhost:8080/"
        },
        "id": "GNBHAVZFO0SW",
        "outputId": "3c1a142a-5729-4ec5-9897-3cc9c927e1d2"
      },
      "outputs": [
        {
          "data": {
            "text/plain": [
              "tensor([[ 0.3640,  0.0423, -0.4635,  ..., -0.0111, -0.0374,  0.4062],\n",
              "        [ 0.0917, -0.1746, -0.1777,  ..., -0.1183,  0.2920,  0.1226],\n",
              "        [-0.1087,  0.0892,  0.2548,  ..., -0.4702, -0.5947,  0.1918],\n",
              "        ...,\n",
              "        [-0.4594,  0.0785, -0.3195,  ...,  0.3571, -0.4904,  0.3782],\n",
              "        [ 0.0983,  0.0114,  0.0154,  ..., -0.0647, -0.0631,  0.0864],\n",
              "        [-0.4562,  0.5571, -0.1672,  ..., -0.6217, -0.5470, -0.2783]],\n",
              "       device='cuda:0')"
            ]
          },
          "execution_count": 65,
          "metadata": {},
          "output_type": "execute_result"
        }
      ],
      "source": [
        "word2vec_model.embedding_layer.weight.data"
      ]
    },
    {
      "cell_type": "code",
      "execution_count": null,
      "metadata": {
        "colab": {
          "base_uri": "https://localhost:8080/"
        },
        "id": "SOgvPx5rmwIE",
        "outputId": "b4c94ff4-c8e4-4d89-9a76-33cc5a2d89a1"
      },
      "outputs": [
        {
          "data": {
            "text/plain": [
              "torch.Size([2842, 150])"
            ]
          },
          "execution_count": 66,
          "metadata": {},
          "output_type": "execute_result"
        }
      ],
      "source": [
        "pre_trained_embedding_weights.shape"
      ]
    },
    {
      "cell_type": "code",
      "execution_count": null,
      "metadata": {
        "colab": {
          "base_uri": "https://localhost:8080/"
        },
        "id": "L5b9uXtXoNsY",
        "outputId": "1cc8e121-fad9-4c4a-9cdb-7e20dc7b716b"
      },
      "outputs": [
        {
          "name": "stdout",
          "output_type": "stream",
          "text": [
            "Vocabulary Size: 2842\n",
            "Embedding Size: 150\n"
          ]
        }
      ],
      "source": [
        "print(f\"Vocabulary Size: {len(vocab)}\")\n",
        "print(f\"Embedding Size: {word2vec_embedding_size}\")"
      ]
    },
    {
      "cell_type": "markdown",
      "metadata": {
        "id": "jKKUaiMQo5JZ"
      },
      "source": [
        "**Instantiate the Model, Optimizer, and Loss Function**"
      ]
    },
    {
      "cell_type": "code",
      "execution_count": null,
      "metadata": {
        "id": "jxQPcWd5kWtk"
      },
      "outputs": [],
      "source": [
        "sentiment_analaysis_model = SentimentAnalysisModel(\n",
        "    vocab_size,\n",
        "    word2vec_embedding_size,\n",
        "    pre_trained_embedding_weights,\n",
        "    freeze_embeddings = True\n",
        ")\n",
        "\n",
        "optimizer = torch.optim.Adam(sentiment_analaysis_model.parameters(), lr = learning_rate)\n",
        "\n",
        "#Calculate weights to address imbalanced data\n",
        "#Source: https://medium.com/@zergtant/use-weighted-loss-function-to-solve-imbalanced-data-classification-problems-749237f38b75\n",
        "sentiment_counts = amazon_reviews_subset[\"Sentiment\"].value_counts()\n",
        "total_count = sentiment_counts.sum()\n",
        "weights = total_count / sentiment_counts\n",
        "\n",
        "class_weights = torch.tensor(weights.values, dtype=torch.float).to(device)\n",
        "\n",
        "loss_fn = torch.nn.CrossEntropyLoss(weight = class_weights) #I use class weights to minimize imbalance problems of data"
      ]
    },
    {
      "cell_type": "code",
      "execution_count": null,
      "metadata": {
        "colab": {
          "base_uri": "https://localhost:8080/"
        },
        "id": "tLTAS7l1s8Lj",
        "outputId": "9ac5c100-3afc-4f63-aee8-8358472556e3"
      },
      "outputs": [
        {
          "name": "stdout",
          "output_type": "stream",
          "text": [
            "Weighs used for Cross Entropy Loss: Sentiment\n",
            "0    2.000000\n",
            "1    3.333333\n",
            "2    5.000000\n",
            "Name: count, dtype: float64\n"
          ]
        }
      ],
      "source": [
        "print(f\"Weighs used for Cross Entropy Loss: {weights}\")"
      ]
    },
    {
      "cell_type": "code",
      "execution_count": null,
      "metadata": {
        "colab": {
          "base_uri": "https://localhost:8080/"
        },
        "id": "AT2CdOFLps94",
        "outputId": "b95128c1-88d4-4146-8734-453f1a643b4f"
      },
      "outputs": [
        {
          "data": {
            "text/plain": [
              "SentimentAnalysisModel(\n",
              "  (embedding_layer): Embedding(2842, 150)\n",
              "  (output_layer): Linear(in_features=150, out_features=3, bias=True)\n",
              ")"
            ]
          },
          "execution_count": 70,
          "metadata": {},
          "output_type": "execute_result"
        }
      ],
      "source": [
        "sentiment_analaysis_model.to(device)"
      ]
    },
    {
      "cell_type": "code",
      "execution_count": null,
      "metadata": {
        "colab": {
          "base_uri": "https://localhost:8080/"
        },
        "id": "4wgAu4-lpxt8",
        "outputId": "88a85347-ebd6-4fcb-c9c4-1fe092bea48b"
      },
      "outputs": [
        {
          "data": {
            "text/plain": [
              "device(type='cuda', index=0)"
            ]
          },
          "execution_count": 71,
          "metadata": {},
          "output_type": "execute_result"
        }
      ],
      "source": [
        "next(sentiment_analaysis_model.parameters()).device"
      ]
    },
    {
      "cell_type": "markdown",
      "metadata": {
        "id": "kw7Iturtzyv0"
      },
      "source": [
        "**Training**"
      ]
    },
    {
      "cell_type": "code",
      "execution_count": null,
      "metadata": {
        "id": "GsbBvj0Jz0MR"
      },
      "outputs": [],
      "source": [
        "#Function calculates the accuracy\n",
        "def getAccuracy(probabilities, labels):\n",
        "\n",
        "  #Predicted label is the one with the highest probability\n",
        "  _, predicted_labels = torch.max(probabilities, dim = 1)\n",
        "\n",
        "  #Calculates how many predictions were accuracy\n",
        "  correct = (predicted_labels == labels).sum().item()\n",
        "\n",
        "  #Calculates accuracy in percent\n",
        "  accuracy = (correct / len(labels)) * 100\n",
        "\n",
        "  #Returns accuracy\n",
        "  return accuracy, predicted_labels"
      ]
    },
    {
      "cell_type": "code",
      "execution_count": null,
      "metadata": {
        "id": "F8_cVMmj_Jip"
      },
      "outputs": [],
      "source": [
        "def evaluateModel(model, dataloader, loss_function, device):\n",
        "  #Set Evaluation Mode\n",
        "  model.eval()\n",
        "\n",
        "  all_sentiment_labels = []\n",
        "  all_predictions = []\n",
        "\n",
        "  running_loss = 0\n",
        "  running_accuracy = 0\n",
        "\n",
        "  #Don't compute Gradients\n",
        "  with torch.no_grad():\n",
        "    #Loops over each batch in Validation Set\n",
        "    for vocab_ids, sentiment_labels in dataloader:\n",
        "\n",
        "      vocab_ids = vocab_ids.to(device)\n",
        "      sentiment_labels = sentiment_labels.to(device)\n",
        "\n",
        "      #Get Predictions on Validation Set\n",
        "      logits, probabilities = model(vocab_ids)\n",
        "\n",
        "      #Get Loss on Validation Set\n",
        "      loss = loss_fn(logits, sentiment_labels)\n",
        "\n",
        "      #Returns accuracy and predicted_labels\n",
        "      accuracy, predicted_labels = getAccuracy(probabilities, sentiment_labels)\n",
        "\n",
        "      #Calculates loss and Accuracy for current batch and adds it to running sums\n",
        "      running_loss = running_loss + loss.item()\n",
        "      running_accuracy = running_accuracy + accuracy\n",
        "\n",
        "      all_sentiment_labels.extend(sentiment_labels.cpu().numpy())\n",
        "      all_predictions.extend(predicted_labels.cpu().numpy())\n",
        "\n",
        "  #Calculates average Loss and Accuracy of Training Data\n",
        "  avg_loss = running_loss / len(dataloader)\n",
        "  avg_accuracy = round(running_accuracy / len(dataloader), 2)\n",
        "\n",
        "  return avg_loss, avg_accuracy, all_sentiment_labels, all_predictions"
      ]
    },
    {
      "cell_type": "code",
      "execution_count": null,
      "metadata": {
        "id": "n9A7gHlP3URv"
      },
      "outputs": [],
      "source": [
        "def trainSentimentModel(model, num_epochs, dataloader, optimizer, loss_fn):\n",
        "  start_time = time.time()\n",
        "\n",
        "  #I keep the loss and accuracy values in a list for plotting\n",
        "  training_loss = []\n",
        "  training_accuracy = []\n",
        "\n",
        "  validation_loss = []\n",
        "  validation_accuracy = []\n",
        "\n",
        "  #Loops over each Epoch!\n",
        "  for epoch in range(num_epochs):\n",
        "\n",
        "    #Set model to training mode at beginning of each epoch as it is set to eval at end of each epoch for Validation loss calcualtion\n",
        "    model.train()\n",
        "\n",
        "    #\n",
        "    # Training\n",
        "    #\n",
        "\n",
        "    #At the beginning of each epoch, I set the running sum to zero\n",
        "    running_train_loss = 0\n",
        "    running_train_accuracy = 0\n",
        "\n",
        "    #Loop over each batch!\n",
        "    for i, (vocab_ids, sentiment_labels) in enumerate(dataloader):\n",
        "\n",
        "      vocab_ids = vocab_ids.to(device)\n",
        "      sentiment_labels = sentiment_labels.to(device)\n",
        "\n",
        "      #Get predicted sentiment labels (or rather the probabilities)\n",
        "      logits, probabilities = model(vocab_ids) #Forward Pass\n",
        "\n",
        "      #Calculate loss based on predictions and true values\n",
        "      loss = loss_fn(logits, sentiment_labels)\n",
        "\n",
        "      #Perform Gradient Descent for current Batch!\n",
        "      optimizer.zero_grad()\n",
        "      loss.backward()\n",
        "      optimizer.step()\n",
        "\n",
        "      #Returns accuracy and predicted_labels\n",
        "      accuracy, _ = getAccuracy(probabilities, sentiment_labels)\n",
        "\n",
        "      #Calculates loss and Accuracy for current batch and adds it to running sums\n",
        "      running_train_loss = running_train_loss + loss.item()\n",
        "      running_train_accuracy = running_train_accuracy + accuracy\n",
        "\n",
        "    #Calculates average Loss and Accuracy of Training Data\n",
        "    avg_training_loss = running_train_loss / len(dataloader)\n",
        "    avg_training_accuracy = round(running_train_accuracy / len(dataloader), 2)\n",
        "\n",
        "    #Add current average values to lists\n",
        "    training_loss.append(avg_training_loss)\n",
        "    training_accuracy.append(avg_training_accuracy)\n",
        "\n",
        "    #\n",
        "    # Validation\n",
        "    #\n",
        "\n",
        "    avg_validation_loss, avg_validation_accuracy, _, _ = evaluateModel(\n",
        "        model,\n",
        "        validation_dataloader,\n",
        "        loss_fn,\n",
        "        device\n",
        "    )\n",
        "\n",
        "    #Add current average values to lists\n",
        "    validation_loss.append(avg_validation_loss)\n",
        "    validation_accuracy.append(avg_validation_accuracy)\n",
        "\n",
        "    #\n",
        "    # Printing\n",
        "    #\n",
        "\n",
        "    current_time = round((time.time() - start_time) / 60, 2) #Calculates current time\n",
        "    current_epoch = epoch + 1\n",
        "\n",
        "    print(\" \")\n",
        "    print(f\"Epoch: {current_epoch}, Time: {current_time} Minutes\")\n",
        "    print(f\"Training Set: Loss {avg_training_loss} | Accuracy {avg_training_accuracy}%\")\n",
        "    print(f\"Validation Set: Loss {avg_validation_loss} | Accuracy {avg_validation_accuracy}%\")\n",
        "\n",
        "  return model, training_loss, training_accuracy, validation_loss, validation_accuracy"
      ]
    },
    {
      "cell_type": "code",
      "execution_count": null,
      "metadata": {
        "colab": {
          "base_uri": "https://localhost:8080/"
        },
        "id": "YXvnrWpC3-5f",
        "outputId": "43baf93d-dede-43d9-cc22-9dd520a8d624"
      },
      "outputs": [
        {
          "name": "stdout",
          "output_type": "stream",
          "text": [
            " \n",
            "Epoch: 1, Time: 0.02 Minutes\n",
            "Training Set: Loss 1.0889659677358234 | Accuracy 40.51%\n",
            "Validation Set: Loss 1.084458279889077 | Accuracy 41.31%\n",
            " \n",
            "Epoch: 2, Time: 0.03 Minutes\n",
            "Training Set: Loss 1.0772147911436418 | Accuracy 43.27%\n",
            "Validation Set: Loss 1.0785268796607852 | Accuracy 44.24%\n",
            " \n",
            "Epoch: 3, Time: 0.05 Minutes\n",
            "Training Set: Loss 1.0706054002923124 | Accuracy 46.31%\n",
            "Validation Set: Loss 1.073413174599409 | Accuracy 46.09%\n",
            " \n",
            "Epoch: 4, Time: 0.07 Minutes\n",
            "Training Set: Loss 1.0649361922460443 | Accuracy 49.28%\n",
            "Validation Set: Loss 1.0684091285802424 | Accuracy 46.58%\n",
            " \n",
            "Epoch: 5, Time: 0.08 Minutes\n",
            "Training Set: Loss 1.059824117492227 | Accuracy 51.16%\n",
            "Validation Set: Loss 1.0637153587304056 | Accuracy 47.85%\n",
            " \n",
            "Epoch: 6, Time: 0.1 Minutes\n",
            "Training Set: Loss 1.0546806908705655 | Accuracy 52.1%\n",
            "Validation Set: Loss 1.0595246264711022 | Accuracy 48.93%\n",
            " \n",
            "Epoch: 7, Time: 0.11 Minutes\n",
            "Training Set: Loss 1.0493174417053952 | Accuracy 52.9%\n",
            "Validation Set: Loss 1.055397148244083 | Accuracy 50.2%\n",
            " \n",
            "Epoch: 8, Time: 0.13 Minutes\n",
            "Training Set: Loss 1.0448762569357366 | Accuracy 53.42%\n",
            "Validation Set: Loss 1.0512723298743367 | Accuracy 50.68%\n",
            " \n",
            "Epoch: 9, Time: 0.14 Minutes\n",
            "Training Set: Loss 1.0407686634098783 | Accuracy 54.04%\n",
            "Validation Set: Loss 1.0473382314667106 | Accuracy 50.78%\n",
            " \n",
            "Epoch: 10, Time: 0.16 Minutes\n",
            "Training Set: Loss 1.0365202541736995 | Accuracy 54.6%\n",
            "Validation Set: Loss 1.0439323540776968 | Accuracy 51.27%\n",
            " \n",
            "Epoch: 11, Time: 0.18 Minutes\n",
            "Training Set: Loss 1.0332787381375537 | Accuracy 54.96%\n",
            "Validation Set: Loss 1.0402262904681265 | Accuracy 52.05%\n",
            " \n",
            "Epoch: 12, Time: 0.19 Minutes\n",
            "Training Set: Loss 1.0289568756433094 | Accuracy 55.18%\n",
            "Validation Set: Loss 1.0370147707872093 | Accuracy 52.54%\n",
            " \n",
            "Epoch: 13, Time: 0.21 Minutes\n",
            "Training Set: Loss 1.0247212338973495 | Accuracy 55.62%\n",
            "Validation Set: Loss 1.0337729551829398 | Accuracy 52.73%\n",
            " \n",
            "Epoch: 14, Time: 0.23 Minutes\n",
            "Training Set: Loss 1.0218622667824522 | Accuracy 55.81%\n",
            "Validation Set: Loss 1.030582366976887 | Accuracy 52.93%\n",
            " \n",
            "Epoch: 15, Time: 0.24 Minutes\n",
            "Training Set: Loss 1.0181261756840874 | Accuracy 56.36%\n",
            "Validation Set: Loss 1.0276306648738682 | Accuracy 53.42%\n",
            " \n",
            "Epoch: 16, Time: 0.26 Minutes\n",
            "Training Set: Loss 1.0157927805886549 | Accuracy 56.62%\n",
            "Validation Set: Loss 1.024817585479468 | Accuracy 53.32%\n",
            " \n",
            "Epoch: 17, Time: 0.27 Minutes\n",
            "Training Set: Loss 1.011718574955183 | Accuracy 56.91%\n",
            "Validation Set: Loss 1.0220725503750145 | Accuracy 53.81%\n",
            " \n",
            "Epoch: 18, Time: 0.29 Minutes\n",
            "Training Set: Loss 1.0088572650271304 | Accuracy 57.26%\n",
            "Validation Set: Loss 1.0195162440650165 | Accuracy 53.81%\n",
            " \n",
            "Epoch: 19, Time: 0.31 Minutes\n",
            "Training Set: Loss 1.0062283293289296 | Accuracy 57.17%\n",
            "Validation Set: Loss 1.0169232082553208 | Accuracy 54.3%\n",
            " \n",
            "Epoch: 20, Time: 0.32 Minutes\n",
            "Training Set: Loss 1.0043886913096203 | Accuracy 57.67%\n",
            "Validation Set: Loss 1.0144773083738983 | Accuracy 54.39%\n",
            " \n",
            "Epoch: 21, Time: 0.34 Minutes\n",
            "Training Set: Loss 0.9997329945073409 | Accuracy 57.89%\n",
            "Validation Set: Loss 1.0123285348527133 | Accuracy 54.59%\n",
            " \n",
            "Epoch: 22, Time: 0.35 Minutes\n",
            "Training Set: Loss 0.997951389849186 | Accuracy 58.12%\n",
            "Validation Set: Loss 1.0100584011524916 | Accuracy 54.69%\n",
            " \n",
            "Epoch: 23, Time: 0.37 Minutes\n",
            "Training Set: Loss 0.9956161656800439 | Accuracy 58.24%\n",
            "Validation Set: Loss 1.0079193208366632 | Accuracy 54.98%\n",
            " \n",
            "Epoch: 24, Time: 0.38 Minutes\n",
            "Training Set: Loss 0.9919410917688819 | Accuracy 58.42%\n",
            "Validation Set: Loss 1.0056738816201687 | Accuracy 55.66%\n",
            " \n",
            "Epoch: 25, Time: 0.4 Minutes\n",
            "Training Set: Loss 0.9900002833674936 | Accuracy 58.57%\n",
            "Validation Set: Loss 1.0037336624227464 | Accuracy 55.37%\n",
            " \n",
            "Epoch: 26, Time: 0.42 Minutes\n",
            "Training Set: Loss 0.9876733189120012 | Accuracy 58.68%\n",
            "Validation Set: Loss 1.0017016385681927 | Accuracy 56.05%\n",
            " \n",
            "Epoch: 27, Time: 0.43 Minutes\n",
            "Training Set: Loss 0.9857751335291302 | Accuracy 58.82%\n",
            "Validation Set: Loss 0.9998798789456487 | Accuracy 55.86%\n",
            " \n",
            "Epoch: 28, Time: 0.45 Minutes\n",
            "Training Set: Loss 0.9831386919407283 | Accuracy 59.01%\n",
            "Validation Set: Loss 0.997910566162318 | Accuracy 56.15%\n",
            " \n",
            "Epoch: 29, Time: 0.47 Minutes\n",
            "Training Set: Loss 0.9810823065393112 | Accuracy 59.26%\n",
            "Validation Set: Loss 0.9963194304145873 | Accuracy 56.45%\n",
            " \n",
            "Epoch: 30, Time: 0.48 Minutes\n",
            "Training Set: Loss 0.9795397147536278 | Accuracy 59.34%\n",
            "Validation Set: Loss 0.9945708587765694 | Accuracy 56.74%\n",
            " \n",
            "Epoch: 31, Time: 0.5 Minutes\n",
            "Training Set: Loss 0.9769866618163445 | Accuracy 59.41%\n",
            "Validation Set: Loss 0.9928088169544935 | Accuracy 56.93%\n",
            " \n",
            "Epoch: 32, Time: 0.51 Minutes\n",
            "Training Set: Loss 0.9752202280304011 | Accuracy 59.67%\n",
            "Validation Set: Loss 0.9911409001797438 | Accuracy 56.84%\n",
            " \n",
            "Epoch: 33, Time: 0.53 Minutes\n",
            "Training Set: Loss 0.9728476295576376 | Accuracy 59.69%\n",
            "Validation Set: Loss 0.9894400467164814 | Accuracy 56.93%\n",
            " \n",
            "Epoch: 34, Time: 0.54 Minutes\n",
            "Training Set: Loss 0.9708901459679884 | Accuracy 59.94%\n",
            "Validation Set: Loss 0.9883506689220667 | Accuracy 57.03%\n",
            " \n",
            "Epoch: 35, Time: 0.56 Minutes\n",
            "Training Set: Loss 0.969977174261037 | Accuracy 59.85%\n",
            "Validation Set: Loss 0.9866662221029401 | Accuracy 57.32%\n",
            " \n",
            "Epoch: 36, Time: 0.58 Minutes\n",
            "Training Set: Loss 0.9685473513953826 | Accuracy 60.09%\n",
            "Validation Set: Loss 0.985138216521591 | Accuracy 57.42%\n",
            " \n",
            "Epoch: 37, Time: 0.59 Minutes\n",
            "Training Set: Loss 0.96633060697247 | Accuracy 60.2%\n",
            "Validation Set: Loss 0.9837437313981354 | Accuracy 57.32%\n",
            " \n",
            "Epoch: 38, Time: 0.61 Minutes\n",
            "Training Set: Loss 0.9640739857273943 | Accuracy 60.37%\n",
            "Validation Set: Loss 0.9824331905692816 | Accuracy 57.32%\n",
            " \n",
            "Epoch: 39, Time: 0.62 Minutes\n",
            "Training Set: Loss 0.9618311333305696 | Accuracy 60.46%\n",
            "Validation Set: Loss 0.9811706379987299 | Accuracy 57.62%\n",
            " \n",
            "Epoch: 40, Time: 0.64 Minutes\n",
            "Training Set: Loss 0.9609653757775531 | Accuracy 60.57%\n",
            "Validation Set: Loss 0.979866523295641 | Accuracy 57.52%\n",
            " \n",
            "Epoch: 41, Time: 0.66 Minutes\n",
            "Training Set: Loss 0.9602631170083494 | Accuracy 60.57%\n",
            "Validation Set: Loss 0.9785622851923108 | Accuracy 57.81%\n",
            " \n",
            "Epoch: 42, Time: 0.67 Minutes\n",
            "Training Set: Loss 0.9582445112221382 | Accuracy 60.7%\n",
            "Validation Set: Loss 0.977399805560708 | Accuracy 57.81%\n",
            " \n",
            "Epoch: 43, Time: 0.69 Minutes\n",
            "Training Set: Loss 0.9561559225706493 | Accuracy 60.79%\n",
            "Validation Set: Loss 0.976278614718467 | Accuracy 57.81%\n",
            " \n",
            "Epoch: 44, Time: 0.7 Minutes\n",
            "Training Set: Loss 0.9540469166110543 | Accuracy 60.79%\n",
            "Validation Set: Loss 0.9748345171101391 | Accuracy 58.01%\n",
            " \n",
            "Epoch: 45, Time: 0.72 Minutes\n",
            "Training Set: Loss 0.9537558916737051 | Accuracy 60.88%\n",
            "Validation Set: Loss 0.9738001856021583 | Accuracy 58.2%\n",
            " \n",
            "Epoch: 46, Time: 0.73 Minutes\n",
            "Training Set: Loss 0.9534278677666889 | Accuracy 61.12%\n",
            "Validation Set: Loss 0.9727026107721031 | Accuracy 58.2%\n",
            " \n",
            "Epoch: 47, Time: 0.75 Minutes\n",
            "Training Set: Loss 0.951966473810813 | Accuracy 61.07%\n",
            "Validation Set: Loss 0.9716638876125216 | Accuracy 58.59%\n",
            " \n",
            "Epoch: 48, Time: 0.77 Minutes\n",
            "Training Set: Loss 0.9486392843372682 | Accuracy 61.19%\n",
            "Validation Set: Loss 0.9705530167557299 | Accuracy 58.5%\n",
            " \n",
            "Epoch: 49, Time: 0.78 Minutes\n",
            "Training Set: Loss 0.9474545438500012 | Accuracy 61.36%\n",
            "Validation Set: Loss 0.9697253033518791 | Accuracy 58.79%\n",
            " \n",
            "Epoch: 50, Time: 0.8 Minutes\n",
            "Training Set: Loss 0.9466662164120113 | Accuracy 61.34%\n",
            "Validation Set: Loss 0.9687866577878594 | Accuracy 58.89%\n",
            " \n",
            "Epoch: 51, Time: 0.81 Minutes\n",
            "Training Set: Loss 0.9463774059625233 | Accuracy 61.4%\n",
            "Validation Set: Loss 0.9677949510514736 | Accuracy 59.08%\n",
            " \n",
            "Epoch: 52, Time: 0.83 Minutes\n",
            "Training Set: Loss 0.9452742394279031 | Accuracy 61.4%\n",
            "Validation Set: Loss 0.9667363776825368 | Accuracy 59.08%\n",
            " \n",
            "Epoch: 53, Time: 0.85 Minutes\n",
            "Training Set: Loss 0.9431131710024441 | Accuracy 61.54%\n",
            "Validation Set: Loss 0.9659330821596086 | Accuracy 59.28%\n",
            " \n",
            "Epoch: 54, Time: 0.86 Minutes\n",
            "Training Set: Loss 0.9420892511220539 | Accuracy 61.54%\n",
            "Validation Set: Loss 0.9649678850546479 | Accuracy 59.18%\n",
            " \n",
            "Epoch: 55, Time: 0.88 Minutes\n",
            "Training Set: Loss 0.9410789169809397 | Accuracy 61.64%\n",
            "Validation Set: Loss 0.96415621554479 | Accuracy 59.18%\n",
            " \n",
            "Epoch: 56, Time: 0.89 Minutes\n",
            "Training Set: Loss 0.940754680949099 | Accuracy 61.64%\n",
            "Validation Set: Loss 0.9633163562975824 | Accuracy 59.38%\n",
            " \n",
            "Epoch: 57, Time: 0.91 Minutes\n",
            "Training Set: Loss 0.9378608018159866 | Accuracy 61.69%\n",
            "Validation Set: Loss 0.9625445632264018 | Accuracy 59.47%\n",
            " \n",
            "Epoch: 58, Time: 0.93 Minutes\n",
            "Training Set: Loss 0.937430861504639 | Accuracy 61.95%\n",
            "Validation Set: Loss 0.9617911200039089 | Accuracy 59.57%\n",
            " \n",
            "Epoch: 59, Time: 0.94 Minutes\n",
            "Training Set: Loss 0.9363800883293152 | Accuracy 61.91%\n",
            "Validation Set: Loss 0.9608756327070296 | Accuracy 59.57%\n",
            " \n",
            "Epoch: 60, Time: 0.96 Minutes\n",
            "Training Set: Loss 0.9361808545449201 | Accuracy 62.0%\n",
            "Validation Set: Loss 0.9602109622210264 | Accuracy 59.57%\n"
          ]
        }
      ],
      "source": [
        "trained_sentiment_analaysis_model, training_loss, training_accuracy, validation_loss, validation_accuracy = trainSentimentModel(sentiment_analaysis_model,\n",
        "                                                                                                                                num_epochs,\n",
        "                                                                                                                                train_dataloader,\n",
        "                                                                                                                                optimizer,\n",
        "                                                                                                                                loss_fn)"
      ]
    },
    {
      "cell_type": "markdown",
      "metadata": {
        "id": "Huzq73TM8_Z9"
      },
      "source": [
        "**Accuracy Development**"
      ]
    },
    {
      "cell_type": "code",
      "execution_count": null,
      "metadata": {
        "id": "m7cW6Bcm-U-f"
      },
      "outputs": [],
      "source": [
        "def plotTrainingAndValidationAccuracy(training_accuracy, validation_accuracy):\n",
        "\n",
        "  x = list(range(1, len(validation_accuracy) + 1))\n",
        "\n",
        "  #Plots Training & Validation Accuracy\n",
        "  sns.lineplot(x = x, y = training_accuracy, label = \"Training Accuracy\")\n",
        "  sns.lineplot(x = x, y = validation_accuracy, label = \"Validation Accuracy\")\n",
        "\n",
        "  #Sets title & labels\n",
        "  plt.xlabel(\"Epochs\")\n",
        "  plt.ylabel(\"Accuracy in %\")\n",
        "  plt.title(\"Training & Validation Accuracy\")\n",
        "\n",
        "  #Puts legend in top right corner\n",
        "  plt.legend(loc = \"upper right\", bbox_to_anchor = (1.4, 1), frameon = False)\n",
        "\n",
        "  #Shows plot\n",
        "  plt.show()"
      ]
    },
    {
      "cell_type": "code",
      "execution_count": null,
      "metadata": {
        "colab": {
          "base_uri": "https://localhost:8080/",
          "height": 472
        },
        "id": "jfz0HvYH89Kn",
        "outputId": "5ec7f8fb-1bc9-4fad-d59f-99767e06705b"
      },
      "outputs": [
        {
          "data": {
            "image/png": "[encoded data removed]",
            "text/plain": [
              "<Figure size 640x480 with 1 Axes>"
            ]
          },
          "metadata": {},
          "output_type": "display_data"
        }
      ],
      "source": [
        "plotTrainingAndValidationAccuracy(training_accuracy, validation_accuracy)"
      ]
    },
    {
      "cell_type": "markdown",
      "metadata": {
        "id": "ZoQXexzkqCb7"
      },
      "source": [
        "I decided to manually set the number of epochs to a value where I could see that the validation accuracy wasn't improving much anymore. Next time, to increase the sophistication of the model, I could add a stop training function that automatically stops training once the validation accuracy doesn't improve anymore"
      ]
    },
    {
      "cell_type": "markdown",
      "metadata": {
        "id": "3XFxDw3W-zYp"
      },
      "source": [
        "## **Step 5: Evaluation**"
      ]
    },
    {
      "cell_type": "code",
      "execution_count": null,
      "metadata": {
        "colab": {
          "base_uri": "https://localhost:8080/"
        },
        "id": "rW-gIHSq-2FS",
        "outputId": "b3d88cca-9656-45f6-d67d-a4be284e6c06"
      },
      "outputs": [
        {
          "name": "stdout",
          "output_type": "stream",
          "text": [
            "Test Loss: 0.9629213213920593\n",
            "Test Accuracy: 58.72%\n",
            " \n",
            "              precision    recall  f1-score   support\n",
            "\n",
            "    Positive       0.69      0.72      0.71       169\n",
            "    Negative       0.55      0.60      0.58       102\n",
            "     Neutral       0.30      0.23      0.26        69\n",
            "\n",
            "    accuracy                           0.59       340\n",
            "   macro avg       0.52      0.52      0.51       340\n",
            "weighted avg       0.57      0.59      0.58       340\n",
            "\n"
          ]
        }
      ],
      "source": [
        "avg_test_loss, avg_test_accuracy, test_sentiment_labels, test_predictions = evaluateModel(\n",
        "    trained_sentiment_analaysis_model,\n",
        "    test_dataloader,\n",
        "    loss_fn,\n",
        "    device\n",
        ")\n",
        "\n",
        "print(f\"Test Loss: {avg_test_loss}\")\n",
        "print(f\"Test Accuracy: {avg_test_accuracy}%\")\n",
        "print(\" \")\n",
        "report = classification_report(test_sentiment_labels, test_predictions, target_names=[\"Positive\", \"Negative\", \"Neutral\"])\n",
        "print(report)"
      ]
    },
    {
      "cell_type": "markdown",
      "metadata": {
        "id": "zE93rOO52M11"
      },
      "source": [
        "**Confusion Matrix**"
      ]
    },
    {
      "cell_type": "code",
      "execution_count": null,
      "metadata": {
        "id": "e50KaHY1-uSH"
      },
      "outputs": [],
      "source": [
        "def plotConfusionMatrix(test_sentiment_labels, test_predictions):\n",
        "  conf_matrix = confusion_matrix(test_sentiment_labels, test_predictions)\n",
        "\n",
        "  plt.figure(figsize=(8, 6))\n",
        "\n",
        "  labels = [\"Positive\", \"Negative\", \"Neutral\"]\n",
        "\n",
        "  #Plot heatmap\n",
        "  sns.heatmap(conf_matrix,\n",
        "              annot = True,\n",
        "              fmt = \"d\",\n",
        "              cmap = \"Blues\",\n",
        "              xticklabels = labels,\n",
        "              yticklabels = labels\n",
        "  )\n",
        "\n",
        "  #Set title & labels\n",
        "  plt.title(\"Confusion Matrix\")\n",
        "  plt.xlabel(\"Predicted Labels\")\n",
        "  plt.ylabel(\"True Labels\")\n",
        "\n",
        "  plt.show()"
      ]
    },
    {
      "cell_type": "code",
      "execution_count": null,
      "metadata": {
        "colab": {
          "base_uri": "https://localhost:8080/",
          "height": 564
        },
        "id": "aQU7AUtr-0hh",
        "outputId": "0f9a3db2-f7d1-495f-94f0-e07ffb6580d5"
      },
      "outputs": [
        {
          "data": {
            "image/png": "[encoded data removed]",
            "text/plain": [
              "<Figure size 800x600 with 2 Axes>"
            ]
          },
          "metadata": {},
          "output_type": "display_data"
        }
      ],
      "source": [
        "plotConfusionMatrix(test_sentiment_labels, test_predictions)"
      ]
    },
    {
      "cell_type": "markdown",
      "metadata": {
        "id": "FUhFeEFup7_z"
      },
      "source": [
        "The model correctly predicts the majority of positive and negative cases. Only for neutral cases, the model doesn't predict the majority correctly. This can likely be attributed to the fact that they are not represented as much in the data.\n",
        "\n",
        "The negative sentiment class still has many cases where the model predicted them to be positive even though they are negative.\n",
        "\n",
        "Overall, the model predicts 58.72% of reviews correctly"
      ]
    },
    {
      "cell_type": "markdown",
      "metadata": {
        "id": "JhR_35w_3Gs-"
      },
      "source": [
        "# **<u>Part 3: Extension to the Model</u>**\n",
        "\n"
      ]
    },
    {
      "cell_type": "markdown",
      "metadata": {
        "id": "g5F1jMdy9ZCo"
      },
      "source": [
        "### **Add a hidden Layer to the Sentiment Classifier**"
      ]
    },
    {
      "cell_type": "code",
      "execution_count": null,
      "metadata": {
        "colab": {
          "base_uri": "https://localhost:8080/"
        },
        "id": "g7hgHwA-3Lb1",
        "outputId": "aaa09efc-a504-4208-9943-37c40a3b9a73"
      },
      "outputs": [
        {
          "data": {
            "text/plain": [
              "SentimentAnalysisModel(\n",
              "  (embedding_layer): Embedding(2842, 150)\n",
              "  (hidden_layer): Linear(in_features=150, out_features=27, bias=True)\n",
              "  (output_layer): Linear(in_features=27, out_features=3, bias=True)\n",
              ")"
            ]
          },
          "execution_count": 104,
          "metadata": {},
          "output_type": "execute_result"
        }
      ],
      "source": [
        "sentiment_analaysis_model_2 = SentimentAnalysisModel(\n",
        "    vocab_size,\n",
        "    word2vec_embedding_size,\n",
        "    pre_trained_embedding_weights,\n",
        "    freeze_embeddings = True,\n",
        "    use_hidden_layer = True,\n",
        "    hidden_size = 27\n",
        ")\n",
        "\n",
        "optimizer_2 = torch.optim.Adam(sentiment_analaysis_model_2.parameters(), lr = learning_rate)\n",
        "loss_fn_2 = torch.nn.CrossEntropyLoss(weight = class_weights) #I use class weights to minimize imbalance problems of data\n",
        "\n",
        "num_epochs_2 = 15\n",
        "\n",
        "sentiment_analaysis_model_2.to(device)"
      ]
    },
    {
      "cell_type": "code",
      "execution_count": null,
      "metadata": {
        "colab": {
          "base_uri": "https://localhost:8080/"
        },
        "id": "YamzQNwV989k",
        "outputId": "a64aa654-63dd-4e3e-8a85-59d91dff9743"
      },
      "outputs": [
        {
          "name": "stdout",
          "output_type": "stream",
          "text": [
            " \n",
            "Epoch: 1, Time: 0.02 Minutes\n",
            "Training Set: Loss 1.0957991312531863 | Accuracy 49.83%\n",
            "Validation Set: Loss 1.0898944665677845 | Accuracy 47.85%\n",
            " \n",
            "Epoch: 2, Time: 0.04 Minutes\n",
            "Training Set: Loss 1.076352340333602 | Accuracy 50.99%\n",
            "Validation Set: Loss 1.072666727937758 | Accuracy 51.37%\n",
            " \n",
            "Epoch: 3, Time: 0.06 Minutes\n",
            "Training Set: Loss 1.0571172005989973 | Accuracy 55.75%\n",
            "Validation Set: Loss 1.0546957817859948 | Accuracy 54.3%\n",
            " \n",
            "Epoch: 4, Time: 0.08 Minutes\n",
            "Training Set: Loss 1.038970369714148 | Accuracy 55.33%\n",
            "Validation Set: Loss 1.038953592069447 | Accuracy 54.88%\n",
            " \n",
            "Epoch: 5, Time: 0.1 Minutes\n",
            "Training Set: Loss 1.0229150655515054 | Accuracy 56.54%\n",
            "Validation Set: Loss 1.0256092143245041 | Accuracy 55.37%\n",
            " \n",
            "Epoch: 6, Time: 0.11 Minutes\n",
            "Training Set: Loss 1.008277126270182 | Accuracy 57.32%\n",
            "Validation Set: Loss 1.0114551479928195 | Accuracy 57.23%\n",
            " \n",
            "Epoch: 7, Time: 0.13 Minutes\n",
            "Training Set: Loss 0.9931888434816809 | Accuracy 59.01%\n",
            "Validation Set: Loss 0.9983519050292671 | Accuracy 57.42%\n",
            " \n",
            "Epoch: 8, Time: 0.15 Minutes\n",
            "Training Set: Loss 0.9798457693527727 | Accuracy 59.89%\n",
            "Validation Set: Loss 0.9876245348714292 | Accuracy 59.08%\n",
            " \n",
            "Epoch: 9, Time: 0.17 Minutes\n",
            "Training Set: Loss 0.9682764538947274 | Accuracy 60.75%\n",
            "Validation Set: Loss 0.9776640604250133 | Accuracy 60.16%\n",
            " \n",
            "Epoch: 10, Time: 0.19 Minutes\n",
            "Training Set: Loss 0.9579112372854177 | Accuracy 61.29%\n",
            "Validation Set: Loss 0.9692660677246749 | Accuracy 61.23%\n",
            " \n",
            "Epoch: 11, Time: 0.21 Minutes\n",
            "Training Set: Loss 0.9463659192709362 | Accuracy 61.99%\n",
            "Validation Set: Loss 0.9619916025549173 | Accuracy 61.04%\n",
            " \n",
            "Epoch: 12, Time: 0.23 Minutes\n",
            "Training Set: Loss 0.9372757195549852 | Accuracy 62.19%\n",
            "Validation Set: Loss 0.9550065943039954 | Accuracy 62.21%\n",
            " \n",
            "Epoch: 13, Time: 0.25 Minutes\n",
            "Training Set: Loss 0.9311540680773118 | Accuracy 62.56%\n",
            "Validation Set: Loss 0.9490864118561149 | Accuracy 61.91%\n",
            " \n",
            "Epoch: 14, Time: 0.27 Minutes\n",
            "Training Set: Loss 0.9231429351603284 | Accuracy 63.05%\n",
            "Validation Set: Loss 0.9445603233762085 | Accuracy 62.21%\n",
            " \n",
            "Epoch: 15, Time: 0.29 Minutes\n",
            "Training Set: Loss 0.9160471436731955 | Accuracy 63.29%\n",
            "Validation Set: Loss 0.9408680112101138 | Accuracy 61.82%\n"
          ]
        }
      ],
      "source": [
        "trained_sentiment_analaysis_model_2, _, training_accuracy_2, _, validation_accuracy_2 = trainSentimentModel(sentiment_analaysis_model_2,\n",
        "                                                                                                                                num_epochs_2,\n",
        "                                                                                                                                train_dataloader,\n",
        "                                                                                                                                optimizer_2,\n",
        "                                                                                                                                loss_fn_2)"
      ]
    },
    {
      "cell_type": "code",
      "execution_count": null,
      "metadata": {
        "colab": {
          "base_uri": "https://localhost:8080/",
          "height": 472
        },
        "id": "d80HEze7-rOU",
        "outputId": "20e2ad92-c32b-4982-f0bc-a019b4d5d1ee"
      },
      "outputs": [
        {
          "data": {
            "image/png": "[encoded data removed]",
            "text/plain": [
              "<Figure size 640x480 with 1 Axes>"
            ]
          },
          "metadata": {},
          "output_type": "display_data"
        }
      ],
      "source": [
        "plotTrainingAndValidationAccuracy(training_accuracy_2, validation_accuracy_2)"
      ]
    },
    {
      "cell_type": "code",
      "execution_count": null,
      "metadata": {
        "colab": {
          "base_uri": "https://localhost:8080/"
        },
        "id": "Lv558r_d_AvH",
        "outputId": "14967cfb-3586-456d-efe6-0c2162443263"
      },
      "outputs": [
        {
          "name": "stdout",
          "output_type": "stream",
          "text": [
            "Test Loss: 0.9446390964264093\n",
            "Test Accuracy: 58.14%\n",
            " \n",
            "              precision    recall  f1-score   support\n",
            "\n",
            "    Positive       0.66      0.75      0.70       169\n",
            "    Negative       0.58      0.62      0.60       102\n",
            "     Neutral       0.20      0.12      0.15        69\n",
            "\n",
            "    accuracy                           0.58       340\n",
            "   macro avg       0.48      0.49      0.48       340\n",
            "weighted avg       0.54      0.58      0.56       340\n",
            "\n"
          ]
        }
      ],
      "source": [
        "avg_test_loss_2, avg_test_accuracy_2, test_sentiment_labels_2, test_predictions_2 = evaluateModel(\n",
        "    trained_sentiment_analaysis_model_2,\n",
        "    test_dataloader,\n",
        "    loss_fn_2,\n",
        "    device\n",
        ")\n",
        "\n",
        "print(f\"Test Loss: {avg_test_loss_2}\")\n",
        "print(f\"Test Accuracy: {avg_test_accuracy_2}%\")\n",
        "print(\" \")\n",
        "report_2 = classification_report(test_sentiment_labels_2, test_predictions_2, target_names=[\"Positive\", \"Negative\", \"Neutral\"])\n",
        "print(report_2)"
      ]
    },
    {
      "cell_type": "code",
      "execution_count": null,
      "metadata": {
        "colab": {
          "base_uri": "https://localhost:8080/",
          "height": 564
        },
        "id": "7swqMfaQ_Bk7",
        "outputId": "b077bfac-a978-46bb-960b-709ab73a8886"
      },
      "outputs": [
        {
          "data": {
            "image/png": "[encoded data removed]",
            "text/plain": [
              "<Figure size 800x600 with 2 Axes>"
            ]
          },
          "metadata": {},
          "output_type": "display_data"
        }
      ],
      "source": [
        "plotConfusionMatrix(test_sentiment_labels_2, test_predictions_2)"
      ]
    },
    {
      "cell_type": "markdown",
      "metadata": {
        "id": "jJq_Bxn7wFKR"
      },
      "source": [
        "The model that includes a hidden layer (but still freezes the embeddings) performs slightly better than the original model for positive and negative reviews. Neutral reviews on the other hand got worse! This explains the slight decline in total accuracy to 58.14%.\n",
        "\n",
        "As the validation accuracy didn't improve at all (even starts to decline) after training for a little above 10 epochs, I stopped training at 15 epochs)."
      ]
    },
    {
      "cell_type": "markdown",
      "metadata": {
        "id": "vKCv01c-_V9W"
      },
      "source": [
        "### **Try Impact of Fine-Tuning the Pre-Trained Embeddings**"
      ]
    },
    {
      "cell_type": "code",
      "execution_count": null,
      "metadata": {
        "colab": {
          "base_uri": "https://localhost:8080/"
        },
        "id": "tjv9Z_xM_Z3v",
        "outputId": "dbb35a91-3160-4b78-a4ee-3bad271ad41c"
      },
      "outputs": [
        {
          "data": {
            "text/plain": [
              "SentimentAnalysisModel(\n",
              "  (embedding_layer): Embedding(2842, 150)\n",
              "  (output_layer): Linear(in_features=150, out_features=3, bias=True)\n",
              ")"
            ]
          },
          "execution_count": 124,
          "metadata": {},
          "output_type": "execute_result"
        }
      ],
      "source": [
        "sentiment_analaysis_model_3 = SentimentAnalysisModel(\n",
        "    vocab_size,\n",
        "    word2vec_embedding_size,\n",
        "    pre_trained_embedding_weights,\n",
        "    freeze_embeddings = False\n",
        ")\n",
        "\n",
        "num_epochs_3 = 10\n",
        "\n",
        "optimizer_3 = torch.optim.Adam(sentiment_analaysis_model_3.parameters(), lr = learning_rate)\n",
        "loss_fn_3 = torch.nn.CrossEntropyLoss(weight = class_weights) #I use class weights to minimize imbalance problems of data\n",
        "\n",
        "sentiment_analaysis_model_3.to(device)"
      ]
    },
    {
      "cell_type": "code",
      "execution_count": null,
      "metadata": {
        "colab": {
          "base_uri": "https://localhost:8080/"
        },
        "id": "xLo09UdG_neX",
        "outputId": "f308b26d-6bf4-478b-ea63-219bb9220936"
      },
      "outputs": [
        {
          "name": "stdout",
          "output_type": "stream",
          "text": [
            " \n",
            "Epoch: 1, Time: 0.02 Minutes\n",
            "Training Set: Loss 0.9540249967399765 | Accuracy 79.03%\n",
            "Validation Set: Loss 0.9736344679258764 | Accuracy 59.96%\n",
            " \n",
            "Epoch: 2, Time: 0.04 Minutes\n",
            "Training Set: Loss 0.7740391833817257 | Accuracy 85.53%\n",
            "Validation Set: Loss 0.9341967937070876 | Accuracy 60.84%\n",
            " \n",
            "Epoch: 3, Time: 0.06 Minutes\n",
            "Training Set: Loss 0.6587594552075162 | Accuracy 87.1%\n",
            "Validation Set: Loss 0.9270600059535354 | Accuracy 60.55%\n",
            " \n",
            "Epoch: 4, Time: 0.08 Minutes\n",
            "Training Set: Loss 0.5805618509431095 | Accuracy 88.03%\n",
            "Validation Set: Loss 0.9377034746576101 | Accuracy 59.77%\n",
            " \n",
            "Epoch: 5, Time: 0.09 Minutes\n",
            "Training Set: Loss 0.5259473178973969 | Accuracy 88.47%\n",
            "Validation Set: Loss 0.9595972232054919 | Accuracy 59.86%\n",
            " \n",
            "Epoch: 6, Time: 0.11 Minutes\n",
            "Training Set: Loss 0.48416715989656306 | Accuracy 88.6%\n",
            "Validation Set: Loss 0.9865685950499028 | Accuracy 60.06%\n",
            " \n",
            "Epoch: 7, Time: 0.13 Minutes\n",
            "Training Set: Loss 0.4532854855279712 | Accuracy 88.68%\n",
            "Validation Set: Loss 1.0166578921489418 | Accuracy 60.16%\n",
            " \n",
            "Epoch: 8, Time: 0.15 Minutes\n",
            "Training Set: Loss 0.4278261124539901 | Accuracy 88.69%\n",
            "Validation Set: Loss 1.049768418772146 | Accuracy 60.35%\n",
            " \n",
            "Epoch: 9, Time: 0.17 Minutes\n",
            "Training Set: Loss 0.4085970211883678 | Accuracy 88.95%\n",
            "Validation Set: Loss 1.0822134591871873 | Accuracy 60.35%\n",
            " \n",
            "Epoch: 10, Time: 0.19 Minutes\n",
            "Training Set: Loss 0.3911315564066172 | Accuracy 89.14%\n",
            "Validation Set: Loss 1.1148709850385785 | Accuracy 60.25%\n"
          ]
        }
      ],
      "source": [
        "trained_sentiment_analaysis_model_3, training_loss_3, training_accuracy_3, validation_loss_3, validation_accuracy_3 = trainSentimentModel(sentiment_analaysis_model_3,\n",
        "                                                                                                                                num_epochs_3,\n",
        "                                                                                                                                train_dataloader,\n",
        "                                                                                                                                optimizer_3,\n",
        "                                                                                                                                loss_fn_3)"
      ]
    },
    {
      "cell_type": "code",
      "execution_count": null,
      "metadata": {
        "colab": {
          "base_uri": "https://localhost:8080/",
          "height": 472
        },
        "id": "8Lj8BlasxJTS",
        "outputId": "ba441080-1fad-4282-bee0-8f07134ae14d"
      },
      "outputs": [
        {
          "data": {
            "image/png": "[encoded data removed]",
            "text/plain": [
              "<Figure size 640x480 with 1 Axes>"
            ]
          },
          "metadata": {},
          "output_type": "display_data"
        }
      ],
      "source": [
        "plotTrainingAndValidationAccuracy(training_accuracy_3, validation_accuracy_3)"
      ]
    },
    {
      "cell_type": "code",
      "execution_count": null,
      "metadata": {
        "colab": {
          "base_uri": "https://localhost:8080/"
        },
        "id": "K6L5lXTX_wI2",
        "outputId": "219f98d3-0d07-4557-c470-61cd9fa49e71"
      },
      "outputs": [
        {
          "name": "stdout",
          "output_type": "stream",
          "text": [
            "Test Loss: 1.003661796450615\n",
            "Test Accuracy: 64.24%\n",
            " \n",
            "              precision    recall  f1-score   support\n",
            "\n",
            "    Positive       0.75      0.76      0.76       169\n",
            "    Negative       0.65      0.66      0.65       102\n",
            "     Neutral       0.34      0.33      0.34        69\n",
            "\n",
            "    accuracy                           0.64       340\n",
            "   macro avg       0.58      0.58      0.58       340\n",
            "weighted avg       0.64      0.64      0.64       340\n",
            "\n"
          ]
        }
      ],
      "source": [
        "avg_test_loss_3, avg_test_accuracy_3, test_sentiment_labels_3, test_predictions_3 = evaluateModel(\n",
        "    trained_sentiment_analaysis_model_3,\n",
        "    test_dataloader,\n",
        "    loss_fn_3,\n",
        "    device\n",
        ")\n",
        "\n",
        "print(f\"Test Loss: {avg_test_loss_3}\")\n",
        "print(f\"Test Accuracy: {avg_test_accuracy_3}%\")\n",
        "print(\" \")\n",
        "report_3 = classification_report(test_sentiment_labels_3, test_predictions_3, target_names=[\"Positive\", \"Negative\", \"Neutral\"])\n",
        "print(report_3)"
      ]
    },
    {
      "cell_type": "code",
      "execution_count": null,
      "metadata": {
        "colab": {
          "base_uri": "https://localhost:8080/",
          "height": 564
        },
        "id": "cJh03sjTHQFv",
        "outputId": "1c8c410a-46bf-40c8-8f06-be2b7bf58a7d"
      },
      "outputs": [
        {
          "data": {
            "image/png": "[encoded data removed]",
            "text/plain": [
              "<Figure size 800x600 with 2 Axes>"
            ]
          },
          "metadata": {},
          "output_type": "display_data"
        }
      ],
      "source": [
        "plotConfusionMatrix(test_sentiment_labels_3, test_predictions_3)"
      ]
    },
    {
      "cell_type": "markdown",
      "metadata": {
        "id": "kdvTgkcJyjVR"
      },
      "source": [
        "By allowing the pre trained embeddings to be trained again, I observe strong overfitting. However, 64% of the test reviews are correctly predicted. The training data was able to predict almost 90% correctly tho. Nevertheless, more positive and negative reviews were correctly predicted in the test set. Predicting neutral reviews got worse tho explaining the decline in total accuracy"
      ]
    },
    {
      "cell_type": "markdown",
      "metadata": {
        "id": "qvuQ9BEcGAfh"
      },
      "source": [
        "# **<u>Part 4: Comparison with Random Embeddings</u>**\n",
        "\n"
      ]
    },
    {
      "cell_type": "markdown",
      "metadata": {
        "id": "nqnUqDvLGVNK"
      },
      "source": [
        "**Create Random Embeddings Matrix**"
      ]
    },
    {
      "cell_type": "code",
      "execution_count": null,
      "metadata": {
        "id": "eM_k3PJeGOGM"
      },
      "outputs": [],
      "source": [
        "vocab_size = len(vocab)\n",
        "embedding_size = word2vec_embedding_size"
      ]
    },
    {
      "cell_type": "code",
      "execution_count": null,
      "metadata": {
        "colab": {
          "base_uri": "https://localhost:8080/"
        },
        "id": "vxz5e503Glt7",
        "outputId": "4d39e610-fb64-4f28-f7bb-4a5db5b1d042"
      },
      "outputs": [
        {
          "name": "stdout",
          "output_type": "stream",
          "text": [
            "Embedding matrix shape: torch.Size([2842, 150])\n"
          ]
        }
      ],
      "source": [
        "random_embedding_weights = torch.randn(vocab_size, embedding_size)\n",
        "print(\"Embedding matrix shape:\", random_embedding_weights.shape)"
      ]
    },
    {
      "cell_type": "markdown",
      "metadata": {
        "id": "RKnNLms2GrOg"
      },
      "source": [
        "**Training with Random Embeddings**"
      ]
    },
    {
      "cell_type": "code",
      "execution_count": null,
      "metadata": {
        "colab": {
          "base_uri": "https://localhost:8080/"
        },
        "id": "HWsx438eGqfk",
        "outputId": "41759fca-5db5-4e94-b934-17b836ad9313"
      },
      "outputs": [
        {
          "data": {
            "text/plain": [
              "SentimentAnalysisModel(\n",
              "  (embedding_layer): Embedding(2842, 150)\n",
              "  (output_layer): Linear(in_features=150, out_features=3, bias=True)\n",
              ")"
            ]
          },
          "execution_count": 134,
          "metadata": {},
          "output_type": "execute_result"
        }
      ],
      "source": [
        "sentiment_analaysis_model_4 = SentimentAnalysisModel(\n",
        "    vocab_size,\n",
        "    word2vec_embedding_size,\n",
        "    random_embedding_weights,\n",
        "    freeze_embeddings = False\n",
        ")\n",
        "\n",
        "optimizer_4 = torch.optim.Adam(sentiment_analaysis_model_4.parameters(), lr = learning_rate)\n",
        "loss_fn_4 = torch.nn.CrossEntropyLoss(weight = class_weights) #I use class weights to minimize imbalance problems of data\n",
        "\n",
        "num_epochs_4 = 20\n",
        "\n",
        "sentiment_analaysis_model_4.to(device)"
      ]
    },
    {
      "cell_type": "code",
      "execution_count": null,
      "metadata": {
        "colab": {
          "base_uri": "https://localhost:8080/"
        },
        "id": "FMS_F84lG8HC",
        "outputId": "341c1d36-ccae-44a3-8750-eeccc37bdaba"
      },
      "outputs": [
        {
          "name": "stdout",
          "output_type": "stream",
          "text": [
            " \n",
            "Epoch: 1, Time: 0.02 Minutes\n",
            "Training Set: Loss 1.0837791538413832 | Accuracy 44.52%\n",
            "Validation Set: Loss 1.07760353339836 | Accuracy 46.19%\n",
            " \n",
            "Epoch: 2, Time: 0.04 Minutes\n",
            "Training Set: Loss 1.0712114862659399 | Accuracy 46.99%\n",
            "Validation Set: Loss 1.068192015402019 | Accuracy 48.24%\n",
            " \n",
            "Epoch: 3, Time: 0.06 Minutes\n",
            "Training Set: Loss 1.059280727102476 | Accuracy 49.45%\n",
            "Validation Set: Loss 1.058396914973855 | Accuracy 50.1%\n",
            " \n",
            "Epoch: 4, Time: 0.08 Minutes\n",
            "Training Set: Loss 1.0477649297784357 | Accuracy 51.51%\n",
            "Validation Set: Loss 1.050258235540241 | Accuracy 51.07%\n",
            " \n",
            "Epoch: 5, Time: 0.09 Minutes\n",
            "Training Set: Loss 1.0369890682837541 | Accuracy 53.14%\n",
            "Validation Set: Loss 1.0414612763561308 | Accuracy 52.73%\n",
            " \n",
            "Epoch: 6, Time: 0.11 Minutes\n",
            "Training Set: Loss 1.025306797816473 | Accuracy 54.61%\n",
            "Validation Set: Loss 1.0330259907059371 | Accuracy 53.61%\n",
            " \n",
            "Epoch: 7, Time: 0.13 Minutes\n",
            "Training Set: Loss 1.0137616118964028 | Accuracy 55.62%\n",
            "Validation Set: Loss 1.0232855025678873 | Accuracy 56.35%\n",
            " \n",
            "Epoch: 8, Time: 0.15 Minutes\n",
            "Training Set: Loss 1.002252944427378 | Accuracy 57.44%\n",
            "Validation Set: Loss 1.015102565754205 | Accuracy 56.54%\n",
            " \n",
            "Epoch: 9, Time: 0.17 Minutes\n",
            "Training Set: Loss 0.9905891264186186 | Accuracy 58.29%\n",
            "Validation Set: Loss 1.0067079248838127 | Accuracy 56.45%\n",
            " \n",
            "Epoch: 10, Time: 0.19 Minutes\n",
            "Training Set: Loss 0.9773333533721812 | Accuracy 58.81%\n",
            "Validation Set: Loss 0.9987865639850497 | Accuracy 56.84%\n",
            " \n",
            "Epoch: 11, Time: 0.2 Minutes\n",
            "Training Set: Loss 0.9669778214658008 | Accuracy 59.94%\n",
            "Validation Set: Loss 0.9912882200442255 | Accuracy 57.23%\n",
            " \n",
            "Epoch: 12, Time: 0.22 Minutes\n",
            "Training Set: Loss 0.9539305473951732 | Accuracy 60.85%\n",
            "Validation Set: Loss 0.984095764812082 | Accuracy 57.71%\n",
            " \n",
            "Epoch: 13, Time: 0.24 Minutes\n",
            "Training Set: Loss 0.9421752069802846 | Accuracy 61.93%\n",
            "Validation Set: Loss 0.978012244682759 | Accuracy 57.81%\n",
            " \n",
            "Epoch: 14, Time: 0.26 Minutes\n",
            "Training Set: Loss 0.9301822667612749 | Accuracy 62.78%\n",
            "Validation Set: Loss 0.9708919543772936 | Accuracy 57.91%\n",
            " \n",
            "Epoch: 15, Time: 0.28 Minutes\n",
            "Training Set: Loss 0.9180264161790118 | Accuracy 63.25%\n",
            "Validation Set: Loss 0.9657882386818528 | Accuracy 58.11%\n",
            " \n",
            "Epoch: 16, Time: 0.3 Minutes\n",
            "Training Set: Loss 0.908542471072253 | Accuracy 64.1%\n",
            "Validation Set: Loss 0.9595313230529428 | Accuracy 58.4%\n",
            " \n",
            "Epoch: 17, Time: 0.32 Minutes\n",
            "Training Set: Loss 0.8958871063064127 | Accuracy 64.43%\n",
            "Validation Set: Loss 0.954813601449132 | Accuracy 58.4%\n",
            " \n",
            "Epoch: 18, Time: 0.33 Minutes\n",
            "Training Set: Loss 0.8840064463808256 | Accuracy 65.2%\n",
            "Validation Set: Loss 0.9480578913353384 | Accuracy 59.47%\n",
            " \n",
            "Epoch: 19, Time: 0.35 Minutes\n",
            "Training Set: Loss 0.8754721472368521 | Accuracy 65.9%\n",
            "Validation Set: Loss 0.9450162621214986 | Accuracy 59.18%\n",
            " \n",
            "Epoch: 20, Time: 0.37 Minutes\n",
            "Training Set: Loss 0.8636104773510905 | Accuracy 66.62%\n",
            "Validation Set: Loss 0.9401999963447452 | Accuracy 59.18%\n"
          ]
        }
      ],
      "source": [
        "trained_sentiment_analaysis_model_4, training_loss_4, training_accuracy_4, validation_loss_4, validation_accuracy_4 = trainSentimentModel(sentiment_analaysis_model_4,\n",
        "                                                                                                                                num_epochs_4,\n",
        "                                                                                                                                train_dataloader,\n",
        "                                                                                                                                optimizer_4,\n",
        "                                                                                                                                loss_fn_4)"
      ]
    },
    {
      "cell_type": "code",
      "execution_count": null,
      "metadata": {
        "colab": {
          "base_uri": "https://localhost:8080/",
          "height": 472
        },
        "id": "pCMtG_gC1DhE",
        "outputId": "4f38c9b8-5ad6-4bdc-c0f7-ed856fd889bd"
      },
      "outputs": [
        {
          "data": {
            "image/png": "[encoded data removed]",
            "text/plain": [
              "<Figure size 640x480 with 1 Axes>"
            ]
          },
          "metadata": {},
          "output_type": "display_data"
        }
      ],
      "source": [
        "plotTrainingAndValidationAccuracy(training_accuracy_4, validation_accuracy_4)"
      ]
    },
    {
      "cell_type": "code",
      "execution_count": null,
      "metadata": {
        "colab": {
          "base_uri": "https://localhost:8080/"
        },
        "id": "gyVq0S_2HD3u",
        "outputId": "2da0ba93-c85d-40af-c1dd-3856149e8367"
      },
      "outputs": [
        {
          "name": "stdout",
          "output_type": "stream",
          "text": [
            "Test Loss: 0.9601104966429777\n",
            "Test Accuracy: 56.1%\n",
            " \n",
            "              precision    recall  f1-score   support\n",
            "\n",
            "    Positive       0.69      0.70      0.69       169\n",
            "    Negative       0.52      0.54      0.53       102\n",
            "     Neutral       0.29      0.26      0.27        69\n",
            "\n",
            "    accuracy                           0.56       340\n",
            "   macro avg       0.50      0.50      0.50       340\n",
            "weighted avg       0.56      0.56      0.56       340\n",
            "\n"
          ]
        }
      ],
      "source": [
        "avg_test_loss_4, avg_test_accuracy_4, test_sentiment_labels_4, test_predictions_4 = evaluateModel(\n",
        "    trained_sentiment_analaysis_model_4,\n",
        "    test_dataloader,\n",
        "    loss_fn_4,\n",
        "    device\n",
        ")\n",
        "\n",
        "print(f\"Test Loss: {avg_test_loss_4}\")\n",
        "print(f\"Test Accuracy: {avg_test_accuracy_4}%\")\n",
        "print(\" \")\n",
        "report_4 = classification_report(test_sentiment_labels_4, test_predictions_4, target_names=[\"Positive\", \"Negative\", \"Neutral\"])\n",
        "print(report_4)"
      ]
    },
    {
      "cell_type": "code",
      "execution_count": null,
      "metadata": {
        "colab": {
          "base_uri": "https://localhost:8080/",
          "height": 564
        },
        "id": "DTmJjmf4HR4a",
        "outputId": "d1c8eee4-bbf6-492e-f1f6-bd70d8ec4bd7"
      },
      "outputs": [
        {
          "data": {
            "image/png": "[encoded data removed]",
            "text/plain": [
              "<Figure size 800x600 with 2 Axes>"
            ]
          },
          "metadata": {},
          "output_type": "display_data"
        }
      ],
      "source": [
        "plotConfusionMatrix(test_sentiment_labels_4, test_predictions_4)"
      ]
    },
    {
      "cell_type": "markdown",
      "metadata": {
        "id": "NZaSzx5K14Jo"
      },
      "source": [
        "The model with random embeddings performs worst of all. It has only a 56.1% accuracy for the test data. The overall pattern of predicting mostly correct the positive and negative sentiment is the same here as well.\n",
        "\n",
        "I can also observe quick overfitting as the training accuracy increases sharply while the validation accuracy stagnates after around 20 epochs."
      ]
    },
    {
      "cell_type": "markdown",
      "metadata": {
        "id": "_bIusozR2TXI"
      },
      "source": [
        "## **Final Review**"
      ]
    },
    {
      "cell_type": "code",
      "execution_count": null,
      "metadata": {
        "colab": {
          "base_uri": "https://localhost:8080/"
        },
        "id": "n2RZGQ_O2V1I",
        "outputId": "6ddc64c1-c3e5-42ae-9ff3-5a758240c037"
      },
      "outputs": [
        {
          "name": "stdout",
          "output_type": "stream",
          "text": [
            "Test Accuracy (First Model): 58.72%\n",
            "Test Accuracy (With Hidden Layer): 58.14%\n",
            "Test Accuracy (Unfreezing Embeddings): 64.24%\n",
            "Test Accuracy (Random Embeddings): 56.1%\n"
          ]
        }
      ],
      "source": [
        "print(f\"Test Accuracy (First Model): {avg_test_accuracy}%\")\n",
        "print(f\"Test Accuracy (With Hidden Layer): {avg_test_accuracy_2}%\")\n",
        "print(f\"Test Accuracy (Unfreezing Embeddings): {avg_test_accuracy_3}%\")\n",
        "print(f\"Test Accuracy (Random Embeddings): {avg_test_accuracy_4}%\")"
      ]
    },
    {
      "cell_type": "markdown",
      "metadata": {
        "id": "2aGdvifF2gJ7"
      },
      "source": [
        "The model that fine-tuned the embeddings performed best with over 64% accuracy. The model with random embeddings performed worst with 56.1% accuracy. Including a hidden layer led to quick overfitting and resulting in a slightly worst test accuracy."
      ]
    }
  ],
  "metadata": {
    "accelerator": "GPU",
    "colab": {
      "gpuType": "T4",
      "machine_shape": "hm",
      "provenance": []
    },
    "kernelspec": {
      "display_name": "Python 3 (ipykernel)",
      "language": "python",
      "name": "python3"
    },
    "language_info": {
      "codemirror_mode": {
        "name": "ipython",
        "version": 3
      },
      "file_extension": ".py",
      "mimetype": "text/x-python",
      "name": "python",
      "nbconvert_exporter": "python",
      "pygments_lexer": "ipython3",
      "version": "3.11.2"
    },
    "varInspector": {
      "cols": {
        "lenName": 16,
        "lenType": 16,
        "lenVar": 40
      },
      "kernels_config": {
        "python": {
          "delete_cmd_postfix": "",
          "delete_cmd_prefix": "del ",
          "library": "var_list.py",
          "varRefreshCmd": "print(var_dic_list())"
        },
        "r": {
          "delete_cmd_postfix": ") ",
          "delete_cmd_prefix": "rm(",
          "library": "var_list.r",
          "varRefreshCmd": "cat(var_dic_list()) "
        }
      },
      "types_to_exclude": [
        "module",
        "function",
        "builtin_function_or_method",
        "instance",
        "_Feature"
      ],
      "window_display": false
    }
  },
  "nbformat": 4,
  "nbformat_minor": 0
}